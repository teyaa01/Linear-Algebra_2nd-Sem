{
  "nbformat": 4,
  "nbformat_minor": 0,
  "metadata": {
    "colab": {
      "name": "Assignment 6",
      "provenance": [],
      "collapsed_sections": [],
      "include_colab_link": true
    },
    "kernelspec": {
      "name": "python3",
      "display_name": "Python 3"
    },
    "language_info": {
      "name": "python"
    }
  },
  "cells": [
    {
      "cell_type": "markdown",
      "metadata": {
        "id": "view-in-github",
        "colab_type": "text"
      },
      "source": [
        "<a href=\"https://colab.research.google.com/github/teyaa01/Linear-Algebra_2nd-Sem/blob/main/Assignment_6.ipynb\" target=\"_parent\"><img src=\"https://colab.research.google.com/assets/colab-badge.svg\" alt=\"Open In Colab\"/></a>"
      ]
    },
    {
      "cell_type": "markdown",
      "source": [
        "# Linear Algebra for ChE\n",
        "## Laboratory 10 : Linear Combination and Vector Spaces"
      ],
      "metadata": {
        "id": "X_SpzLH3Zglm"
      }
    },
    {
      "cell_type": "markdown",
      "source": [
        "After learning the fundamental knowledge about linear combination, the students should be able to apply their learnings into scientific programming. Therefore, the following concepts must be discussed and executed:\n",
        "\n",
        "*   Numpy \n",
        "  *  Linear Combination\n",
        "  *  Span of Single Vectors 1st plot  \n",
        "  *  Span of Single Vectors 2nd plot \n",
        "  * Span of a linear combination of vectors 1st plot \n",
        "  * Span of a linear combination of vectors 2nd plot \n",
        "\n",
        "*   Activity\n",
        "  *   Linear Combination 1 \n",
        "  *   Linear Combination 2 \n",
        "\n",
        "\n",
        "\n",
        "\n",
        "\n",
        "\n",
        "\n",
        "\n",
        "\n",
        "\n",
        "\n",
        "\n",
        "\n"
      ],
      "metadata": {
        "id": "0xKTrBF7ZmtQ"
      }
    },
    {
      "cell_type": "markdown",
      "source": [
        "To apply the concepts acquired, several objectives must be observed in this laboratory report such as:\n",
        "\n",
        "1. Familiarity on representing linear combinations using the Cartesian plane. \n",
        "2. Visualize spans using vector fields in Python. \n",
        "3. Perform vector fields operations using scientific programming."
      ],
      "metadata": {
        "id": "GAXbgaqQau_v"
      }
    },
    {
      "cell_type": "markdown",
      "source": [
        "## Discussion"
      ],
      "metadata": {
        "id": "i5M8P-mhaxr7"
      }
    },
    {
      "cell_type": "markdown",
      "source": [
        "Numerical Python or popularly known as ***NumPy***, is one of the Python libraries that is used as the basic code because of its capability to perform several mathematical and logical operations on arrays. Although Python has a similar function that works as arrays, NumPy is favored as it is 50 times faster than the traditional Python lists. Alongside NumPy, ***Matplotlib*** is utilized in this laboratory activity. It is a plotting library that can create static, animated, and interactive visualizations."
      ],
      "metadata": {
        "id": "JU9vHA9WTJiz"
      }
    },
    {
      "cell_type": "code",
      "source": [
        "import numpy as np\n",
        "import matplotlib.pyplot as plt\n",
        "%matplotlib inline"
      ],
      "metadata": {
        "id": "-cv7-y8la0my"
      },
      "execution_count": null,
      "outputs": []
    },
    {
      "cell_type": "markdown",
      "source": [
        "## Linear Combination"
      ],
      "metadata": {
        "id": "gqBPpsADa7Ih"
      }
    },
    {
      "cell_type": "markdown",
      "source": [
        "The linear combination refers to the combination of performing linear scaling and vector addition. In order to visualize the combination, plotting using real number values are used. For this example, vectors are used: "
      ],
      "metadata": {
        "id": "XxLppLAlrkTG"
      }
    },
    {
      "cell_type": "markdown",
      "source": [
        "$$Doctor = \\begin{bmatrix} 9\\\\2 \\\\\\end{bmatrix} , Strange = \\begin{bmatrix} 7\\\\3 \\\\\\end{bmatrix} $$"
      ],
      "metadata": {
        "id": "oNWLbY4PcUkH"
      }
    },
    {
      "cell_type": "code",
      "source": [
        "Doctor =  np.array([9,2])\n",
        "Strange =  np.array([7,3])\n",
        "\n",
        "Strange"
      ],
      "metadata": {
        "id": "l1fR9H8XcZj_",
        "colab": {
          "base_uri": "https://localhost:8080/"
        },
        "outputId": "ef559758-d78b-4082-9812-ff0b3bf24ea4"
      },
      "execution_count": null,
      "outputs": [
        {
          "output_type": "execute_result",
          "data": {
            "text/plain": [
              "array([7, 3])"
            ]
          },
          "metadata": {},
          "execution_count": 16
        }
      ]
    },
    {
      "cell_type": "markdown",
      "source": [
        "#### Span of single vectors"
      ],
      "metadata": {
        "id": "Bgfrwx6xcccC"
      }
    },
    {
      "cell_type": "markdown",
      "source": [
        "The span of single vectors is referred to as the line created by combining a number of  vectors. This program is performed using vector $Superhero$ with a constant numerical value represented by *Fly*."
      ],
      "metadata": {
        "id": "1OA5dmDkcfkB"
      }
    },
    {
      "cell_type": "markdown",
      "source": [
        "$$Superhero = Fly\\cdot \\begin{bmatrix} 9\\\\2 \\\\\\end{bmatrix} $$"
      ],
      "metadata": {
        "id": "SApaZvBjch_q"
      }
    },
    {
      "cell_type": "code",
      "source": [
        "c = np.arange(-25,20,0.25)\n",
        "\n",
        "plt.scatter(c*Doctor[0],c*Doctor[1])\n",
        "\n",
        "plt.xlim(-25,25)\n",
        "plt.ylim(-25,25)\n",
        "plt.axhline(y=0, color='k')\n",
        "plt.axvline(x=0, color='k')\n",
        "plt.grid()\n",
        "plt.show()"
      ],
      "metadata": {
        "colab": {
          "base_uri": "https://localhost:8080/",
          "height": 265
        },
        "id": "tm5PwCr-cj38",
        "outputId": "7492089b-332a-4145-bc5b-2c3e07e36fe2"
      },
      "execution_count": null,
      "outputs": [
        {
          "output_type": "display_data",
          "data": {
            "text/plain": [
              "<Figure size 432x288 with 1 Axes>"
            ],
            "image/png": "[encoded data removed]"
          },
          "metadata": {
            "needs_background": "light"
          }
        }
      ]
    },
    {
      "cell_type": "markdown",
      "source": [
        "$$Barbie = Mermaid\\cdot \\begin{bmatrix} 7\\\\3 \\\\\\end{bmatrix} $$"
      ],
      "metadata": {
        "id": "m3Umt84ycnjO"
      }
    },
    {
      "cell_type": "code",
      "source": [
        "c = np.arange(-4,8,0.2)\n",
        "\n",
        "plt.scatter(c*Strange[0],c*Strange[1])\n",
        "\n",
        "plt.xlim(-10,10)\n",
        "plt.ylim(-10,10)\n",
        "plt.axhline(y=0, color='k')\n",
        "plt.axvline(x=0, color='k')\n",
        "plt.grid()\n",
        "plt.show()"
      ],
      "metadata": {
        "colab": {
          "base_uri": "https://localhost:8080/",
          "height": 269
        },
        "id": "U0LyhAepcsJu",
        "outputId": "e2e2ba98-9f50-442d-dabd-0700ae2cac11"
      },
      "execution_count": null,
      "outputs": [
        {
          "output_type": "display_data",
          "data": {
            "text/plain": [
              "<Figure size 432x288 with 1 Axes>"
            ],
            "image/png": "[encoded data removed]"
          },
          "metadata": {
            "needs_background": "light"
          }
        }
      ]
    },
    {
      "cell_type": "markdown",
      "source": [
        "### Span of a linear combination of vectors"
      ],
      "metadata": {
        "id": "iBi5bRG7cyaz"
      }
    },
    {
      "cell_type": "markdown",
      "source": [
        "By plotting the span of linear combination of vectors, the 2-dimesional coordinate system can be visualized that will allow us to see the ***vector field of the resultant vector***.\n",
        "\n",
        "Starting off with the linear combination of vectors below:\n"
      ],
      "metadata": {
        "id": "kWcXhEWrc1kR"
      }
    },
    {
      "cell_type": "markdown",
      "source": [
        "$$Spicy = \\begin{Bmatrix} Chic \\cdot\\begin{bmatrix} 1\\\\0 \\\\\\end{bmatrix}, \n",
        "Ken \\cdot \\begin{bmatrix} 1\\\\-1 \\\\\\end{bmatrix}\\end{Bmatrix} $$"
      ],
      "metadata": {
        "id": "18y07bW5c3mN"
      }
    },
    {
      "cell_type": "code",
      "source": [
        "Busog = np.array([14,1])  \n",
        "Lusog = np.array([10,9])\n",
        "VectR = Busog + Lusog\n",
        "\n",
        "Sauce = np.arange(-15,15,2)\n",
        "\n",
        "Chic,  Ken = np.meshgrid(Sauce,Sauce)\n",
        "\n",
        "spanRx = Chic*Busog[0] + Ken*Lusog[0]\n",
        "spanRy = Chic*Busog[1] + Ken*Lusog[1]\n",
        "plt.scatter(spanRx,spanRy, s=5, alpha=0.75, color = 'blue')\n",
        "\n",
        "## To plot the Vector Busog and Vector Lusog, respectively\n",
        "plt.scatter(Sauce*Busog[0],Sauce*Busog[1], color = 'purple')\n",
        "plt.scatter(Sauce*Lusog[0],Sauce*Lusog[1], color = 'pink')\n",
        "\n",
        "plt.title(\"SPICY VECTOR FIELD\", color = 'Black')\n",
        "plt.axhline(y=0, color='k')\n",
        "plt.axvline(x=0, color='k')\n",
        "plt.grid()\n",
        "plt.show()"
      ],
      "metadata": {
        "colab": {
          "base_uri": "https://localhost:8080/",
          "height": 281
        },
        "id": "zNyHQOoqc0Sr",
        "outputId": "f43c315f-1734-4cd1-d249-b7024fb427d7"
      },
      "execution_count": 106,
      "outputs": [
        {
          "output_type": "display_data",
          "data": {
            "text/plain": [
              "<Figure size 432x288 with 1 Axes>"
            ],
            "image/png": "[encoded data removed]"
          },
          "metadata": {
            "needs_background": "light"
          }
        }
      ]
    },
    {
      "cell_type": "code",
      "source": [
        "Power = np.array([3,10])\n",
        "Puff = np.array([2,-1])\n",
        "vectR = Power + Puff\n",
        "\n",
        "Cape = np.arange(-10,10, 3)\n",
        "\n",
        "Chic, Ken = np.meshgrid(Cape,Cape)\n",
        "\n",
        "\n",
        "spanRx = Chic*Power[0] + Ken*Puff[0]\n",
        "spanRy = Chic*Power[1] + Ken*Puff[1]\n",
        "plt.scatter(spanRx,spanRy, s=5, alpha=0.75, color = 'Cyan')\n",
        "\n",
        "## To plot the Vector Power and Vector Puff, respectively\n",
        "plt.scatter(Cape*Power[0],Cape*Power[1], color = 'Green')\n",
        "plt.scatter(Cape*Puff[0],Cape*Puff[1], color = 'Orange')\n",
        "\n",
        "plt.title(\"POWERFUL VECTOR FIELD\", color = 'Black')\n",
        "plt.axhline(y=0, color='k')\n",
        "plt.axvline(x=0, color='k')\n",
        "plt.grid()\n",
        "plt.show()"
      ],
      "metadata": {
        "colab": {
          "base_uri": "https://localhost:8080/",
          "height": 281
        },
        "id": "knUM3PZNc8dl",
        "outputId": "c2e6c215-de5f-4d42-879a-890b4a97b28a"
      },
      "execution_count": 107,
      "outputs": [
        {
          "output_type": "display_data",
          "data": {
            "text/plain": [
              "<Figure size 432x288 with 1 Axes>"
            ],
            "image/png": "[encoded data removed]"
          },
          "metadata": {
            "needs_background": "light"
          }
        }
      ]
    },
    {
      "cell_type": "markdown",
      "source": [
        "It should be noted that if vectors are seen as a 2-dimensional span, then it is considered as Rank 2 or $\\mathbb{R}^2$. Consequently, if the span of the linear combination of vectors appears to be like a line, it is said to be ***linearly dependent*** and has the rank of 1 or $\\mathbb{R}^1$."
      ],
      "metadata": {
        "id": "6pIluEcadAs1"
      }
    },
    {
      "cell_type": "markdown",
      "source": [
        "# Activity"
      ],
      "metadata": {
        "id": "nQ6xkpXddEE1"
      }
    },
    {
      "cell_type": "markdown",
      "source": [
        "### Task 1"
      ],
      "metadata": {
        "id": "dOiJXmeFdGJ3"
      }
    },
    {
      "cell_type": "markdown",
      "source": [
        "Try different linear combinations using different scalar values. In your methodology discuss the different functions that you have used, the  linear equation and vector form of the linear combination, and the flowchart for declaring and displaying linear combinations. Please make sure that your flowchart has only few words and not putting the entire code as it is bad practice. In your results, display and discuss the linear combination visualization you made. You should use the cells below for displaying the equation markdows using LaTeX and your code."
      ],
      "metadata": {
        "id": "mHmOHinHdHzz"
      }
    },
    {
      "cell_type": "markdown",
      "source": [
        "$$\n",
        "Space \\cdot for \\cdot the \\cdot general \\cdot linear \\cdot equation \\cdot form\n",
        "$$"
      ],
      "metadata": {
        "id": "9k3fobHEdMaQ"
      }
    },
    {
      "cell_type": "markdown",
      "source": [
        "$$Space \\cdot for \\cdot the \\cdot vector \\cdot form$$"
      ],
      "metadata": {
        "id": "ak161ZYudOqu"
      }
    },
    {
      "cell_type": "code",
      "source": [
        "### TYPE YOU CODE FOR TASK 1 HERE"
      ],
      "metadata": {
        "id": "182QnDk_dQX0"
      },
      "execution_count": null,
      "outputs": []
    },
    {
      "cell_type": "markdown",
      "source": [
        "## Conclusion guide"
      ],
      "metadata": {
        "id": "ap-7wiNxdTQs"
      }
    },
    {
      "cell_type": "markdown",
      "source": [
        "For your conclusion synthesize the concept and application of the laboratory. Briefly discuss what you have learn and achieved in this activity. At the end of your conclusion try to answer the question : \"How can you apply the concept of linear combination in engineering or real-life situations?\"."
      ],
      "metadata": {
        "id": "pNa8clmxdUzj"
      }
    }
  ]
}