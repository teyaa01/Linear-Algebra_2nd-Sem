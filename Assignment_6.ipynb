{
  "nbformat": 4,
  "nbformat_minor": 0,
  "metadata": {
    "colab": {
      "name": "Assignment 6",
      "provenance": [],
      "collapsed_sections": [],
      "include_colab_link": true
    },
    "kernelspec": {
      "name": "python3",
      "display_name": "Python 3"
    },
    "language_info": {
      "name": "python"
    }
  },
  "cells": [
    {
      "cell_type": "markdown",
      "metadata": {
        "id": "view-in-github",
        "colab_type": "text"
      },
      "source": [
        "<a href=\"https://colab.research.google.com/github/teyaa01/Linear-Algebra_2nd-Sem/blob/main/Assignment_6.ipynb\" target=\"_parent\"><img src=\"https://colab.research.google.com/assets/colab-badge.svg\" alt=\"Open In Colab\"/></a>"
      ]
    },
    {
      "cell_type": "markdown",
      "source": [
        "# Linear Algebra for ChE\n",
        "## Laboratory 10 : Linear Combination and Vector Spaces"
      ],
      "metadata": {
        "id": "X_SpzLH3Zglm"
      }
    },
    {
      "cell_type": "markdown",
      "source": [
        "After learning the fundamental knowledge about linear combination, the students should be able to apply their learnings into scientific programming. Therefore, the following concepts must be discussed and executed:\n",
        "\n",
        "*   Numpy \n",
        "  *  Linear Combination\n",
        "  *  Span of Single Vectors 1st plot  \n",
        "  *  Span of Single Vectors 2nd plot \n",
        "  * Span of a linear combination of vectors 1st plot \n",
        "  * Span of a linear combination of vectors 2nd plot \n",
        "\n",
        "*   Activity\n",
        "  *   Linear Combination 1 \n",
        "  *   Linear Combination 2 \n",
        "\n",
        "\n",
        "\n",
        "\n",
        "\n",
        "\n",
        "\n",
        "\n",
        "\n",
        "\n",
        "\n",
        "\n",
        "\n"
      ],
      "metadata": {
        "id": "0xKTrBF7ZmtQ"
      }
    },
    {
      "cell_type": "markdown",
      "source": [
        "To apply the concepts acquired, several objectives must be observed in this laboratory report such as:\n",
        "\n",
        "1. Familiarity on representing linear combinations using the Cartesian plane. \n",
        "2. Visualize spans using vector fields in Python. \n",
        "3. Perform vector fields operations using scientific programming."
      ],
      "metadata": {
        "id": "GAXbgaqQau_v"
      }
    },
    {
      "cell_type": "markdown",
      "source": [
        "## Discussion"
      ],
      "metadata": {
        "id": "i5M8P-mhaxr7"
      }
    },
    {
      "cell_type": "markdown",
      "source": [
        "Numerical Python or popularly known as ***NumPy***, is one of the Python libraries that is used as the basic code because of its capability to perform several mathematical and logical operations on arrays. Although Python has a similar function that works as arrays, NumPy is favored as it is 50 times faster than the traditional Python lists. Alongside NumPy, ***Matplotlib*** is utilized in this laboratory activity. It is a plotting library that can create static, animated, and interactive visualizations."
      ],
      "metadata": {
        "id": "JU9vHA9WTJiz"
      }
    },
    {
      "cell_type": "code",
      "source": [
        "import numpy as np\n",
        "import matplotlib.pyplot as plt\n",
        "%matplotlib inline"
      ],
      "metadata": {
        "id": "-cv7-y8la0my"
      },
      "execution_count": null,
      "outputs": []
    },
    {
      "cell_type": "markdown",
      "source": [
        "## Linear Combination"
      ],
      "metadata": {
        "id": "gqBPpsADa7Ih"
      }
    },
    {
      "cell_type": "markdown",
      "source": [
        "The linear combination refers to the combination of performing linear scaling and vector addition. In order to visualize the combination, plotting using real number values are used. For this example, vectors are used: "
      ],
      "metadata": {
        "id": "XxLppLAlrkTG"
      }
    },
    {
      "cell_type": "markdown",
      "source": [
        "$$Doctor = \\begin{bmatrix} 9\\\\2 \\\\\\end{bmatrix} , Strange = \\begin{bmatrix} 7\\\\3 \\\\\\end{bmatrix} $$"
      ],
      "metadata": {
        "id": "oNWLbY4PcUkH"
      }
    },
    {
      "cell_type": "code",
      "source": [
        "Doctor =  np.array([9,2])\n",
        "Strange =  np.array([7,3])\n",
        "\n",
        "Strange"
      ],
      "metadata": {
        "id": "l1fR9H8XcZj_",
        "colab": {
          "base_uri": "https://localhost:8080/"
        },
        "outputId": "5263f6ec-3975-432e-b36e-e643ab4ca361"
      },
      "execution_count": null,
      "outputs": [
        {
          "output_type": "execute_result",
          "data": {
            "text/plain": [
              "array([7, 3])"
            ]
          },
          "metadata": {},
          "execution_count": 19
        }
      ]
    },
    {
      "cell_type": "code",
      "source": [
        "Doctor =  np.array([9,2])\n",
        "Strange =  np.array([7,3])\n",
        "Doctor"
      ],
      "metadata": {
        "colab": {
          "base_uri": "https://localhost:8080/"
        },
        "id": "-pPFI_d-ymnB",
        "outputId": "57c8bce8-41e2-4417-d855-08739b875e77"
      },
      "execution_count": null,
      "outputs": [
        {
          "output_type": "execute_result",
          "data": {
            "text/plain": [
              "array([9, 2])"
            ]
          },
          "metadata": {},
          "execution_count": 111
        }
      ]
    },
    {
      "cell_type": "markdown",
      "source": [
        "#### Span of single vectors"
      ],
      "metadata": {
        "id": "Bgfrwx6xcccC"
      }
    },
    {
      "cell_type": "markdown",
      "source": [
        "The span of single vectors is referred to as the line created by combining a number of  vectors. This program is performed using vector $Superhero$ with a constant numerical value represented by *Fly*."
      ],
      "metadata": {
        "id": "1OA5dmDkcfkB"
      }
    },
    {
      "cell_type": "markdown",
      "source": [
        "$$Superhero = Fly\\cdot \\begin{bmatrix} 9\\\\2 \\\\\\end{bmatrix} $$"
      ],
      "metadata": {
        "id": "SApaZvBjch_q"
      }
    },
    {
      "cell_type": "code",
      "source": [
        "Fly = np.arange(-25,20,0.25)\n",
        "\n",
        "plt.scatter(Fly*Doctor[0],Fly*Doctor[1])\n",
        "\n",
        "plt.xlim(-25,25)\n",
        "plt.ylim(-25,25)\n",
        "plt.axhline(y=0, color='k')\n",
        "plt.axvline(x=0, color='k')\n",
        "plt.grid()\n",
        "plt.show()"
      ],
      "metadata": {
        "colab": {
          "base_uri": "https://localhost:8080/",
          "height": 265
        },
        "id": "tm5PwCr-cj38",
        "outputId": "6767c4d0-d3cb-498a-cf82-15811eb75cd2"
      },
      "execution_count": null,
      "outputs": [
        {
          "output_type": "display_data",
          "data": {
            "text/plain": [
              "<Figure size 432x288 with 1 Axes>"
            ],
            "image/png": "[encoded data removed]"
          },
          "metadata": {
            "needs_background": "light"
          }
        }
      ]
    },
    {
      "cell_type": "markdown",
      "source": [
        "$$Barbie = Mermaid\\cdot \\begin{bmatrix} 7\\\\3 \\\\\\end{bmatrix} $$"
      ],
      "metadata": {
        "id": "m3Umt84ycnjO"
      }
    },
    {
      "cell_type": "code",
      "source": [
        "Mermaid = np.arange(-4,8,0.2)\n",
        "\n",
        "plt.scatter(Mermaid*Strange[0],Mermaid*Strange[1])\n",
        "\n",
        "plt.xlim(-10,10)\n",
        "plt.ylim(-10,10)\n",
        "plt.axhline(y=0, color='k')\n",
        "plt.axvline(x=0, color='k')\n",
        "plt.grid()\n",
        "plt.show()"
      ],
      "metadata": {
        "colab": {
          "base_uri": "https://localhost:8080/",
          "height": 269
        },
        "id": "U0LyhAepcsJu",
        "outputId": "b9b3ab37-e57d-4d64-84ce-fbdf112301a9"
      },
      "execution_count": null,
      "outputs": [
        {
          "output_type": "display_data",
          "data": {
            "text/plain": [
              "<Figure size 432x288 with 1 Axes>"
            ],
            "image/png": "[encoded data removed]"
          },
          "metadata": {
            "needs_background": "light"
          }
        }
      ]
    },
    {
      "cell_type": "markdown",
      "source": [
        "### Span of a linear combination of vectors"
      ],
      "metadata": {
        "id": "iBi5bRG7cyaz"
      }
    },
    {
      "cell_type": "markdown",
      "source": [
        "By plotting the span of linear combination of vectors, the 2-dimesional coordinate system can be visualized that will allow us to see the ***vector field of the resultant vector***.\n",
        "\n",
        "Starting off with the linear combination of vectors below:\n"
      ],
      "metadata": {
        "id": "kWcXhEWrc1kR"
      }
    },
    {
      "cell_type": "markdown",
      "source": [
        "$$Spicy = \\begin{Bmatrix} Chic \\cdot\\begin{bmatrix} 1\\\\0 \\\\\\end{bmatrix}, \n",
        "Ken \\cdot \\begin{bmatrix} 1\\\\-1 \\\\\\end{bmatrix}\\end{Bmatrix} $$"
      ],
      "metadata": {
        "id": "18y07bW5c3mN"
      }
    },
    {
      "cell_type": "code",
      "source": [
        "Busog = np.array([14,1])  \n",
        "Lusog = np.array([10,9])\n",
        "VectR = Busog + Lusog\n",
        "\n",
        "Sauce = np.arange(-15,15,2)\n",
        "\n",
        "Chic,  Ken = np.meshgrid(Sauce,Sauce)\n",
        "\n",
        "spanRx = Chic*Busog[0] + Ken*Lusog[0]\n",
        "spanRy = Chic*Busog[1] + Ken*Lusog[1]\n",
        "plt.scatter(spanRx,spanRy, s=5, alpha=0.75, color = 'blue')\n",
        "\n",
        "## To plot the Vector Busog and Vector Lusog, respectively\n",
        "plt.scatter(Sauce*Busog[0],Sauce*Busog[1], color = 'purple')\n",
        "plt.scatter(Sauce*Lusog[0],Sauce*Lusog[1], color = 'pink')\n",
        "\n",
        "plt.title(\"SPICY VECTOR FIELD\", color = 'Black')\n",
        "plt.axhline(y=0, color='k')\n",
        "plt.axvline(x=0, color='k')\n",
        "plt.grid()\n",
        "plt.show()"
      ],
      "metadata": {
        "colab": {
          "base_uri": "https://localhost:8080/",
          "height": 281
        },
        "id": "zNyHQOoqc0Sr",
        "outputId": "adc94901-f36f-495a-b307-a843ff705ac8"
      },
      "execution_count": null,
      "outputs": [
        {
          "output_type": "display_data",
          "data": {
            "text/plain": [
              "<Figure size 432x288 with 1 Axes>"
            ],
            "image/png": "[encoded data removed]"
          },
          "metadata": {
            "needs_background": "light"
          }
        }
      ]
    },
    {
      "cell_type": "code",
      "source": [
        "Power = np.array([3,10])\n",
        "Puff = np.array([2,-1])\n",
        "vectR = Power + Puff\n",
        "\n",
        "Cape = np.arange(-10,10, 3)\n",
        "\n",
        "Chic, Ken = np.meshgrid(Cape,Cape)\n",
        "\n",
        "\n",
        "spanRx = Chic*Power[0] + Ken*Puff[0]\n",
        "spanRy = Chic*Power[1] + Ken*Puff[1]\n",
        "plt.scatter(spanRx,spanRy, s=5, alpha=0.75, color = 'Cyan')\n",
        "\n",
        "## To plot the Vector Power and Vector Puff, respectively\n",
        "plt.scatter(Cape*Power[0],Cape*Power[1], color = 'Green')\n",
        "plt.scatter(Cape*Puff[0],Cape*Puff[1], color = 'Orange')\n",
        "\n",
        "plt.title(\"POWERFUL VECTOR FIELD\", color = 'Black')\n",
        "plt.axhline(y=0, color='k')\n",
        "plt.axvline(x=0, color='k')\n",
        "plt.grid()\n",
        "plt.show()"
      ],
      "metadata": {
        "colab": {
          "base_uri": "https://localhost:8080/",
          "height": 281
        },
        "id": "knUM3PZNc8dl",
        "outputId": "fbfdab99-1e06-45b7-b0d1-0168b3c1ee11"
      },
      "execution_count": null,
      "outputs": [
        {
          "output_type": "display_data",
          "data": {
            "text/plain": [
              "<Figure size 432x288 with 1 Axes>"
            ],
            "image/png": "[encoded data removed]"
          },
          "metadata": {
            "needs_background": "light"
          }
        }
      ]
    },
    {
      "cell_type": "markdown",
      "source": [
        "It should be noted that if vectors are seen as a 2-dimensional span, then it is considered as Rank 2 or $\\mathbb{R}^2$. Consequently, if the span of the linear combination of vectors appears to be like a line, it is said to be ***linearly dependent*** and has the rank of 1 or $\\mathbb{R}^1$.\n",
        "\n",
        "\n",
        "\n"
      ],
      "metadata": {
        "id": "6pIluEcadAs1"
      }
    },
    {
      "cell_type": "markdown",
      "source": [
        "# Activity"
      ],
      "metadata": {
        "id": "nQ6xkpXddEE1"
      }
    },
    {
      "cell_type": "markdown",
      "source": [
        "### Task 1"
      ],
      "metadata": {
        "id": "dOiJXmeFdGJ3"
      }
    },
    {
      "cell_type": "markdown",
      "source": [
        "$$ Coffee = -2\\hat{x} + 6\\hat{y} + 3\\hat{z} \\\\\n",
        "Tea = \\hat{x} + 5\\hat{y} + 2\\hat{z}\\\\\n",
        "Milk = 3\\hat{x} + 2\\hat{y} + \\hat{z} $$"
      ],
      "metadata": {
        "id": "9k3fobHEdMaQ"
      }
    },
    {
      "cell_type": "markdown",
      "source": [
        "$$ Coffee = \\begin{bmatrix} -2 \\\\ 6\\\\ 3\\end{bmatrix} \n",
        "Tea = \\begin{bmatrix} 1 \\\\ 5 \\\\ 2\\end{bmatrix} Milk = \\begin{bmatrix} 3 \\\\ 2 \\\\ 1 \\end{bmatrix}\n",
        "$$"
      ],
      "metadata": {
        "id": "BR9ofLGXXe4J"
      }
    },
    {
      "cell_type": "code",
      "source": [
        "Coffee =  np.array([-2,6,3])\n",
        "Tea =  np.array([1,5,2])\n",
        "Milk = np.array([3,2,1])\n",
        "\n",
        "Tea"
      ],
      "metadata": {
        "id": "182QnDk_dQX0",
        "colab": {
          "base_uri": "https://localhost:8080/"
        },
        "outputId": "10c606b4-471d-41fb-fcfc-a4feff8c51ce"
      },
      "execution_count": 38,
      "outputs": [
        {
          "output_type": "execute_result",
          "data": {
            "text/plain": [
              "array([1, 5, 2])"
            ]
          },
          "metadata": {},
          "execution_count": 38
        }
      ]
    },
    {
      "cell_type": "code",
      "source": [
        "Green_Tea = np.arange(-15,10,0.25)\n",
        "\n",
        "plt.scatter(Green_Tea*Tea[0],Green_Tea*Tea[1], color = 'Orange')\n",
        "\n",
        "plt.xlim(-20,20)\n",
        "plt.ylim(-20,20)\n",
        "plt.axhline(y=0, color='Cyan')\n",
        "plt.axvline(x=0, color='Blue')\n",
        "plt.title(\"GREEN TEA GRAPH\", color = 'Black')\n",
        "plt.grid()\n",
        "plt.show()"
      ],
      "metadata": {
        "colab": {
          "base_uri": "https://localhost:8080/",
          "height": 281
        },
        "id": "bI6b-2sd8Jl5",
        "outputId": "a9dea4dd-d932-4141-efc1-68151c3f1a14"
      },
      "execution_count": 44,
      "outputs": [
        {
          "output_type": "display_data",
          "data": {
            "text/plain": [
              "<Figure size 432x288 with 1 Axes>"
            ],
            "image/png": "[encoded data removed]"
          },
          "metadata": {
            "needs_background": "light"
          }
        }
      ]
    },
    {
      "cell_type": "code",
      "source": [
        "VectR = Coffee + Milk\n",
        "\n",
        "Drink = np.arange(-10,10,3)\n",
        "\n",
        "Sugar, Honey= np.meshgrid(Drink,Drink)\n",
        "\n",
        "spanRx = Sugar*Coffee[0] + Honey*Milk[0] \n",
        "spanRy = Sugar*Coffee[1] + Honey*Milk[1] \n",
        "plt.scatter(spanRx,spanRy, s=5, alpha=0.75, color = 'Green')\n",
        "\n",
        "## To plot the Vector Coffee and Vector Milk, respectively\n",
        "plt.scatter(Drink*Coffee[0],Drink*Coffee[1], color = 'Orange')\n",
        "plt.scatter(Drink*Milk[0],Drink*Milk[1], color = 'Yellow')\n",
        "\n",
        "plt.title(\"SWEET GRAPH\", color = 'Black')\n",
        "plt.axhline(y=0, color='k')\n",
        "plt.axvline(x=0, color='k')\n",
        "plt.grid()\n",
        "plt.show()"
      ],
      "metadata": {
        "colab": {
          "base_uri": "https://localhost:8080/",
          "height": 281
        },
        "id": "3igSStsZ80UF",
        "outputId": "f2425b90-271f-4246-a9d8-d417fd34c0c6"
      },
      "execution_count": 45,
      "outputs": [
        {
          "output_type": "display_data",
          "data": {
            "text/plain": [
              "<Figure size 432x288 with 1 Axes>"
            ],
            "image/png": "[encoded data removed]"
          },
          "metadata": {
            "needs_background": "light"
          }
        }
      ]
    },
    {
      "cell_type": "markdown",
      "source": [
        "## Conclusion "
      ],
      "metadata": {
        "id": "ap-7wiNxdTQs"
      }
    },
    {
      "cell_type": "markdown",
      "source": [
        "Linear programming has tons of real-life applications as it is a technique that makes processes efficient. It is mostly used in science and math intensive fields such as engineering, food and agriculture, transportation,manufacturing and energy, and even schools. For the most part, linear programming is utilized to predict/calculate results in order to get the desired outcome, prevent problems and optimize profits or raw materials. "
      ],
      "metadata": {
        "id": "pNa8clmxdUzj"
      }
    }
  ]
}