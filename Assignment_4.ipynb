{
  "nbformat": 4,
  "nbformat_minor": 0,
  "metadata": {
    "colab": {
      "name": "Assignment 4.ipynb",
      "provenance": [],
      "collapsed_sections": [],
      "include_colab_link": true
    },
    "kernelspec": {
      "name": "python3",
      "display_name": "Python 3"
    },
    "language_info": {
      "name": "python"
    }
  },
  "cells": [
    {
      "cell_type": "markdown",
      "metadata": {
        "id": "view-in-github",
        "colab_type": "text"
      },
      "source": [
        "<a href=\"https://colab.research.google.com/github/teyaa01/Linear-Algebra_2nd-Sem/blob/main/Assignment_4.ipynb\" target=\"_parent\"><img src=\"https://colab.research.google.com/assets/colab-badge.svg\" alt=\"Open In Colab\"/></a>"
      ]
    },
    {
      "cell_type": "markdown",
      "source": [
        "# Linear Algebra for ChE\n",
        "\n",
        "## Laboratory 6 : Matrix Operations\n",
        "\n",
        "\n"
      ],
      "metadata": {
        "id": "85-rDfp38tYC"
      }
    },
    {
      "cell_type": "markdown",
      "source": [
        "Now that you have a fundamental knowledge about representing and operating with vectors as well as the fundamentals of matrices, we'll try to the same operations with matrices and even more."
      ],
      "metadata": {
        "id": "-p0juqZp87ih"
      }
    },
    {
      "cell_type": "markdown",
      "source": [
        "### Objectives\n",
        "\n",
        "At the end of this activity you will be able to:\n",
        "\n",
        "\n",
        "1.   Be familiar with the fundamental matrix operations.\n",
        "\n",
        "2.   Apply the operations to solve intemrediate equations.\n",
        "\n",
        "3. Apply matrix algebra in engineering solutions\n",
        "\n",
        "\n",
        "\n",
        "\n",
        "\n",
        "\n",
        "\n",
        "\n"
      ],
      "metadata": {
        "id": "LYFeXnyg9DVv"
      }
    },
    {
      "cell_type": "markdown",
      "source": [
        "## Discussion"
      ],
      "metadata": {
        "id": "FLSYzLm69LcO"
      }
    },
    {
      "cell_type": "markdown",
      "source": [
        "Importing mathematical functionalities are essential in order to easily operate matrix operations. Below are the functions needed for this laboratory:\n",
        "  "
      ],
      "metadata": {
        "id": "r7OiyW5L8pUH"
      }
    },
    {
      "cell_type": "code",
      "source": [
        "import numpy as np\n",
        "import matplotlib.pyplot as plt\n",
        "%matplotlib inline"
      ],
      "metadata": {
        "id": "qMsMCh979OE8"
      },
      "execution_count": null,
      "outputs": []
    },
    {
      "cell_type": "markdown",
      "source": [
        "## Transposition"
      ],
      "metadata": {
        "id": "DXUHeaqL9UcO"
      }
    },
    {
      "cell_type": "markdown",
      "source": [
        "One of the fundamental operations in matrix algebra is Transposition. The transpose of a matrix is done by flipping the values of its elements over its diagonals. With this, the rows and columns from the original matrix will be switched. So for a matrix $A$  its transpose is denoted as $A^T$. So for example:\n",
        "\n"
      ],
      "metadata": {
        "id": "5AKRfkZv9Wne"
      }
    },
    {
      "cell_type": "markdown",
      "source": [
        "$$A = \\begin{bmatrix} 1 & 2 & 5\\\\5 & -1 &0 \\\\ 0 & -3 & 3\\end{bmatrix} $$"
      ],
      "metadata": {
        "id": "qCBHV-uP-_HD"
      }
    },
    {
      "cell_type": "markdown",
      "source": [
        "$$ A^T = \\begin{bmatrix} 1 & 5 & 0\\\\2 & -1 &-3 \\\\ 5 & 0 & 3\\end{bmatrix}$$"
      ],
      "metadata": {
        "id": "uF9gUZy2_K38"
      }
    },
    {
      "cell_type": "markdown",
      "source": [
        "This can now be achieved programmatically by using `np.transpose()` or using the `T` method.\n"
      ],
      "metadata": {
        "id": "_p7l7Zlt_CqS"
      }
    },
    {
      "cell_type": "code",
      "source": [
        "A = np.array([\n",
        "    [1 ,2, 5],\n",
        "    [5, -1, 0],\n",
        "    [0, -3, 3]\n",
        "])\n",
        "A"
      ],
      "metadata": {
        "colab": {
          "base_uri": "https://localhost:8080/"
        },
        "id": "4Abq-7o89rLj",
        "outputId": "3a05f3bd-9c4a-44fe-a6e9-ab6d3910785a"
      },
      "execution_count": null,
      "outputs": [
        {
          "output_type": "execute_result",
          "data": {
            "text/plain": [
              "array([[ 1,  2,  5],\n",
              "       [ 5, -1,  0],\n",
              "       [ 0, -3,  3]])"
            ]
          },
          "metadata": {},
          "execution_count": 4
        }
      ]
    },
    {
      "cell_type": "code",
      "source": [
        "AT1 = np.transpose(A)\n",
        "AT1"
      ],
      "metadata": {
        "colab": {
          "base_uri": "https://localhost:8080/"
        },
        "id": "O1_8Agpm9vNd",
        "outputId": "7ff18eba-e9e3-446b-b3b7-4729d7f1593b"
      },
      "execution_count": null,
      "outputs": [
        {
          "output_type": "execute_result",
          "data": {
            "text/plain": [
              "array([[ 1,  5,  0],\n",
              "       [ 2, -1, -3],\n",
              "       [ 5,  0,  3]])"
            ]
          },
          "metadata": {},
          "execution_count": 6
        }
      ]
    },
    {
      "cell_type": "code",
      "source": [
        "AT2 = A.T"
      ],
      "metadata": {
        "id": "Ht7pH4kI96dq"
      },
      "execution_count": null,
      "outputs": []
    },
    {
      "cell_type": "code",
      "source": [
        "np.array_equiv(AT1, AT2)"
      ],
      "metadata": {
        "colab": {
          "base_uri": "https://localhost:8080/"
        },
        "id": "0I2gnR1b9-vE",
        "outputId": "4739c057-55c2-452b-987b-9ef5988fd2b9"
      },
      "execution_count": null,
      "outputs": [
        {
          "output_type": "execute_result",
          "data": {
            "text/plain": [
              "True"
            ]
          },
          "metadata": {},
          "execution_count": 8
        }
      ]
    },
    {
      "cell_type": "code",
      "source": [
        "B = np.array([\n",
        "    [1,2,3,4],\n",
        "    [1,0,2,1],\n",
        "])\n",
        "B.shape"
      ],
      "metadata": {
        "colab": {
          "base_uri": "https://localhost:8080/"
        },
        "id": "vJLJCdrY-BAt",
        "outputId": "c04642e8-f1d8-4e9f-b668-1919ec4f728d"
      },
      "execution_count": null,
      "outputs": [
        {
          "output_type": "execute_result",
          "data": {
            "text/plain": [
              "(2, 4)"
            ]
          },
          "metadata": {},
          "execution_count": 9
        }
      ]
    },
    {
      "cell_type": "code",
      "source": [
        "np.transpose(B).shape"
      ],
      "metadata": {
        "colab": {
          "base_uri": "https://localhost:8080/"
        },
        "id": "jy2pKV4p-H84",
        "outputId": "825c648a-ff66-4a8b-b275-2f6cd40284da"
      },
      "execution_count": null,
      "outputs": [
        {
          "output_type": "execute_result",
          "data": {
            "text/plain": [
              "(4, 2)"
            ]
          },
          "metadata": {},
          "execution_count": 10
        }
      ]
    },
    {
      "cell_type": "code",
      "source": [
        "B.T.shape"
      ],
      "metadata": {
        "colab": {
          "base_uri": "https://localhost:8080/"
        },
        "id": "DxAeNrxH-K8-",
        "outputId": "06fa8a65-e6f5-45e2-e436-32cf2752922c"
      },
      "execution_count": null,
      "outputs": [
        {
          "output_type": "execute_result",
          "data": {
            "text/plain": [
              "(4, 2)"
            ]
          },
          "metadata": {},
          "execution_count": 11
        }
      ]
    },
    {
      "cell_type": "markdown",
      "source": [
        "#### Try to create your own matrix (you can try non-squares) to test transposition."
      ],
      "metadata": {
        "id": "F4Z-KJrOAbYv"
      }
    },
    {
      "cell_type": "code",
      "source": [
        "D = np.array([\n",
        "    [2,5,4,6],\n",
        "    [3,0,6,4]\n",
        "])\n",
        "D.shape"
      ],
      "metadata": {
        "colab": {
          "base_uri": "https://localhost:8080/"
        },
        "id": "X2GH0GxbxuiR",
        "outputId": "94ff0691-ba7c-4110-82a1-282fab89bedc"
      },
      "execution_count": null,
      "outputs": [
        {
          "output_type": "execute_result",
          "data": {
            "text/plain": [
              "(2, 4)"
            ]
          },
          "metadata": {},
          "execution_count": 3
        }
      ]
    },
    {
      "cell_type": "code",
      "source": [
        "D.T.shape"
      ],
      "metadata": {
        "colab": {
          "base_uri": "https://localhost:8080/"
        },
        "id": "0pTFceHoyEqm",
        "outputId": "659cdd36-6772-41e1-8218-6020b3023d32"
      },
      "execution_count": null,
      "outputs": [
        {
          "output_type": "execute_result",
          "data": {
            "text/plain": [
              "(4, 2)"
            ]
          },
          "metadata": {},
          "execution_count": 4
        }
      ]
    },
    {
      "cell_type": "code",
      "source": [
        "C = np.array([\n",
        "    [2,6,5],\n",
        "    [6,7,8],\n",
        "    [6,1,2]\n",
        "])\n",
        "C.shape"
      ],
      "metadata": {
        "colab": {
          "base_uri": "https://localhost:8080/"
        },
        "id": "m8aTkaSP_mIK",
        "outputId": "150cd7f3-005a-475a-9d91-b467bdee6ce6"
      },
      "execution_count": null,
      "outputs": [
        {
          "output_type": "execute_result",
          "data": {
            "text/plain": [
              "(3, 3)"
            ]
          },
          "metadata": {},
          "execution_count": 12
        }
      ]
    },
    {
      "cell_type": "code",
      "source": [
        "C.T.shape"
      ],
      "metadata": {
        "colab": {
          "base_uri": "https://localhost:8080/"
        },
        "id": "LzeJrJUNAAH2",
        "outputId": "c66d6da6-86e6-407b-e0f0-4a211b77add4"
      },
      "execution_count": null,
      "outputs": [
        {
          "output_type": "execute_result",
          "data": {
            "text/plain": [
              "(3, 3)"
            ]
          },
          "metadata": {},
          "execution_count": 13
        }
      ]
    },
    {
      "cell_type": "markdown",
      "source": [
        "## Dot Product / Inner Product"
      ],
      "metadata": {
        "id": "R63Ph8XM_XiE"
      }
    },
    {
      "cell_type": "markdown",
      "source": [
        "Dot product multiplies two matrices with the condition that the number of columns of the first matrix is equal to the number of rows of the second matrix. Given below are matrices $O$ and $P$ with sizes 2✕2 and 2✕3, respectively.\n",
        "\n",
        "$$O = \\begin{bmatrix}o_{(0,0)}&o_{(0,1)}\\\\ o_{(1,0)}&o_{(1,1)}\\end{bmatrix}, P = \\begin{bmatrix}p_{(0,0)}&p_{(0,1)}\\\\ p_{(1,0)}&p_{(1,1)}\\end{bmatrix}$$\n",
        "\n",
        "It will be multiplied using the row-column technique and will then be computed as:\n",
        "\n",
        "\n",
        "$$O \\cdot P= \\begin{bmatrix} o_{(0,0)}*p_{(0,0)} + o_{(0,1)}*p_{(1,0)} & o_{(0,0)}*p_{(0,1)} + o_{(0,1)}*p_{(1,1)} \\\\  o_{(1,0)}*p_{(0,0)} + o_{(1,1)}*p_{(1,0)} & o_{(1,0)}*p_{(0,1)} + o_{(1,1)}*p_{(1,1)}\n",
        "\\end{bmatrix}$$\n",
        "\n",
        "\n",
        "So assigning values to $O$ and $P$:\n",
        "$$O = \\begin{bmatrix}3&7\\\\ 2&1\\end{bmatrix}, P = \\begin{bmatrix}-8&1\\\\ 3&1\\end{bmatrix}$$"
      ],
      "metadata": {
        "id": "OkDlpocxAHs4"
      }
    },
    {
      "cell_type": "markdown",
      "source": [
        "The output/ answer will be:\n",
        "\n",
        "\n",
        "$$O \\cdot P= \\begin{bmatrix} 3*-8 + 7*3 & 3*1 + 7*1 \\\\  2*-8 + 1*3 & 2*1 + 1*1 \\end{bmatrix} = \\begin{bmatrix} -3 & 10 \\\\-13 & 3 \\end{bmatrix}$$\n",
        "\n",
        "In Python, it can be programmed using three different codes, such as `np.dot()`, `np.matmul()` or the `@` operator."
      ],
      "metadata": {
        "id": "HE2Kups-AQKa"
      }
    },
    {
      "cell_type": "code",
      "source": [
        "X = np.array([\n",
        "    [1,2],\n",
        "    [0,1]\n",
        "])\n",
        "Y = np.array([\n",
        "    [-1,0],\n",
        "    [2,2]\n",
        "])"
      ],
      "metadata": {
        "id": "ISBi1xu0ASiZ"
      },
      "execution_count": null,
      "outputs": []
    },
    {
      "cell_type": "code",
      "source": [
        "np.dot(X,Y)"
      ],
      "metadata": {
        "colab": {
          "base_uri": "https://localhost:8080/"
        },
        "id": "WMKuIueqAe_Q",
        "outputId": "02df0a86-cdf5-4dec-97cd-061eadea58cd"
      },
      "execution_count": null,
      "outputs": [
        {
          "output_type": "execute_result",
          "data": {
            "text/plain": [
              "array([[3, 4],\n",
              "       [2, 2]])"
            ]
          },
          "metadata": {},
          "execution_count": 15
        }
      ]
    },
    {
      "cell_type": "code",
      "source": [
        "X.dot(Y)"
      ],
      "metadata": {
        "colab": {
          "base_uri": "https://localhost:8080/"
        },
        "id": "YSyVeBuPAjbp",
        "outputId": "ef4dce32-bf42-4458-c3bb-f6e1cb20e2c7"
      },
      "execution_count": null,
      "outputs": [
        {
          "output_type": "execute_result",
          "data": {
            "text/plain": [
              "array([[3, 4],\n",
              "       [2, 2]])"
            ]
          },
          "metadata": {},
          "execution_count": 16
        }
      ]
    },
    {
      "cell_type": "code",
      "source": [
        "X @ Y"
      ],
      "metadata": {
        "colab": {
          "base_uri": "https://localhost:8080/"
        },
        "id": "DimLFfFWAmgp",
        "outputId": "74b7eeab-6aa8-429a-f5f9-17fb4dbe3180"
      },
      "execution_count": null,
      "outputs": [
        {
          "output_type": "execute_result",
          "data": {
            "text/plain": [
              "array([[3, 4],\n",
              "       [2, 2]])"
            ]
          },
          "metadata": {},
          "execution_count": 17
        }
      ]
    },
    {
      "cell_type": "code",
      "source": [
        "np.matmul(X,Y)"
      ],
      "metadata": {
        "colab": {
          "base_uri": "https://localhost:8080/"
        },
        "id": "hLdCQQIfApeF",
        "outputId": "f990a01c-f8a0-4c83-ee25-8b56987aa1be"
      },
      "execution_count": null,
      "outputs": [
        {
          "output_type": "execute_result",
          "data": {
            "text/plain": [
              "array([[3, 4],\n",
              "       [2, 2]])"
            ]
          },
          "metadata": {},
          "execution_count": 18
        }
      ]
    },
    {
      "cell_type": "code",
      "source": [
        "A = np.array([\n",
        "    [1,2],\n",
        "    [0,1]\n",
        "])\n",
        "B = np.array([\n",
        "    [-1,0,5],\n",
        "    [2,6,7],\n",
        "])"
      ],
      "metadata": {
        "id": "bbUK2gMBBM_W"
      },
      "execution_count": null,
      "outputs": []
    },
    {
      "cell_type": "code",
      "source": [
        "A @ B"
      ],
      "metadata": {
        "colab": {
          "base_uri": "https://localhost:8080/"
        },
        "id": "2FHtUy30Dden",
        "outputId": "1c00ce41-31e4-4c05-d712-495ea571911c"
      },
      "execution_count": null,
      "outputs": [
        {
          "output_type": "execute_result",
          "data": {
            "text/plain": [
              "array([[ 3, 12, 19],\n",
              "       [ 2,  6,  7]])"
            ]
          },
          "metadata": {},
          "execution_count": 36
        }
      ]
    },
    {
      "cell_type": "code",
      "source": [
        "np.dot(A,B)"
      ],
      "metadata": {
        "colab": {
          "base_uri": "https://localhost:8080/"
        },
        "id": "4sX8LmzMDmmr",
        "outputId": "9b9254b2-2b1b-4c41-dd83-7a96e0de4372"
      },
      "execution_count": null,
      "outputs": [
        {
          "output_type": "execute_result",
          "data": {
            "text/plain": [
              "array([[ 3, 12, 19],\n",
              "       [ 2,  6,  7]])"
            ]
          },
          "metadata": {},
          "execution_count": 37
        }
      ]
    },
    {
      "cell_type": "code",
      "source": [
        "np.matmul(A,B)"
      ],
      "metadata": {
        "colab": {
          "base_uri": "https://localhost:8080/"
        },
        "id": "gbZiR3IqDqdd",
        "outputId": "c8295a15-d3a1-45f9-8e8a-df7ecb6cf384"
      },
      "execution_count": null,
      "outputs": [
        {
          "output_type": "execute_result",
          "data": {
            "text/plain": [
              "array([[ 3, 12, 19],\n",
              "       [ 2,  6,  7]])"
            ]
          },
          "metadata": {},
          "execution_count": 38
        }
      ]
    },
    {
      "cell_type": "code",
      "source": [
        "A.dot(B)"
      ],
      "metadata": {
        "colab": {
          "base_uri": "https://localhost:8080/"
        },
        "id": "pnr1lFEhDuRM",
        "outputId": "0967752c-da1a-4542-c429-85c127f13a72"
      },
      "execution_count": null,
      "outputs": [
        {
          "output_type": "execute_result",
          "data": {
            "text/plain": [
              "array([[ 3, 12, 19],\n",
              "       [ 2,  6,  7]])"
            ]
          },
          "metadata": {},
          "execution_count": 39
        }
      ]
    },
    {
      "cell_type": "markdown",
      "source": [
        "In matrix dot products there are additional rules compared with vector dot products. Since vector dot products were just in one dimension there are less restrictions. Since now we are dealing with Rank 2 vectors we need to consider some rules:\n",
        "\n",
        "\n",
        "### Rule 1: The inner dimensions of the two matrices in question must be the same. \n",
        "\n",
        "So given a matrix $A$ with a shape of $(a,b)$ where $a$ and $b$ are any integers. If we want to do a dot product between $A$ and another matrix $B$, then matrix $B$ should have a shape of $(b,c)$ where $b$ and $c$ are any integers. So for given the following matrices:\n",
        "\n",
        "$$A = \\begin{bmatrix}2&4\\\\5&-2\\\\0&1\\\\1&7\\end{bmatrix}, B = \\begin{bmatrix}1&1\\\\3&3\\\\0&5\\\\-1&-2\\end{bmatrix}, C = \\begin{bmatrix}0&1&1&2&6\\\\1&1&2&4&8\\end{bmatrix}$$\n",
        "\n",
        "So in this case $A$ has a shape of $(4,2)$, $B$ has a shape of $(4,2)$ and $C$ has a shape of $(2,5)$. So the only matrix pairs that is eligible to perform dot product is matrices $A \\cdot C$, or $B \\cdot C$.  "
      ],
      "metadata": {
        "id": "4BcoDDdkAvk2"
      }
    },
    {
      "cell_type": "markdown",
      "source": [
        "code the above like the code below"
      ],
      "metadata": {
        "id": "1oHdkVGxFsUk"
      }
    },
    {
      "cell_type": "code",
      "source": [
        "A = np.array([\n",
        "    [2, 4],\n",
        "    [5, -2],\n",
        "    [0, 1],\n",
        "    [1,7]\n",
        "])\n",
        "B = np.array([\n",
        "    [1,1],\n",
        "    [3,3],\n",
        "    [0,5],\n",
        "    [-1,-2]\n",
        "])\n",
        "C = np.array([\n",
        "    [0,1,1,2,6],\n",
        "    [1,1,2,4,8]\n",
        "])\n",
        "print(A.shape)\n",
        "print(B.shape)\n",
        "print(C.shape)"
      ],
      "metadata": {
        "colab": {
          "base_uri": "https://localhost:8080/"
        },
        "id": "dO_-NwzVA1AW",
        "outputId": "ed5a5c91-e0a5-4220-8e89-000e66bb006e"
      },
      "execution_count": null,
      "outputs": [
        {
          "output_type": "stream",
          "name": "stdout",
          "text": [
            "(4, 2)\n",
            "(4, 2)\n",
            "(2, 5)\n"
          ]
        }
      ]
    },
    {
      "cell_type": "code",
      "source": [
        "A @ C"
      ],
      "metadata": {
        "colab": {
          "base_uri": "https://localhost:8080/"
        },
        "id": "4hfxNhKzA_jl",
        "outputId": "76793e1d-2859-4dd7-affa-11f5e1461f59"
      },
      "execution_count": null,
      "outputs": [
        {
          "output_type": "execute_result",
          "data": {
            "text/plain": [
              "array([[ 4,  6, 10, 20, 44],\n",
              "       [-2,  3,  1,  2, 14],\n",
              "       [ 1,  1,  2,  4,  8],\n",
              "       [ 7,  8, 15, 30, 62]])"
            ]
          },
          "metadata": {},
          "execution_count": 3
        }
      ]
    },
    {
      "cell_type": "code",
      "source": [
        "B @ C"
      ],
      "metadata": {
        "colab": {
          "base_uri": "https://localhost:8080/"
        },
        "id": "Kc4itaQdBCsR",
        "outputId": "3a2b3133-2c03-4c20-9e98-c998a965b03f"
      },
      "execution_count": null,
      "outputs": [
        {
          "output_type": "execute_result",
          "data": {
            "text/plain": [
              "array([[  1,   2,   3,   6,  14],\n",
              "       [  3,   6,   9,  18,  42],\n",
              "       [  5,   5,  10,  20,  40],\n",
              "       [ -2,  -3,  -5, -10, -22]])"
            ]
          },
          "metadata": {},
          "execution_count": 4
        }
      ]
    },
    {
      "cell_type": "markdown",
      "source": [
        "If you would notice the shape of the dot product changed and its shape is not the same as any of the matrices we used. The shape of a dot product is actually derived from the shapes of the matrices used. So recall matrix $A$ with a shape of $(a,b)$ and matrix $B$ with a shape of $(b,c)$, $A \\cdot B$ should have a shape $(a,c)$."
      ],
      "metadata": {
        "id": "YjKzyf-cF3xs"
      }
    },
    {
      "cell_type": "code",
      "source": [
        "A @ B.T"
      ],
      "metadata": {
        "colab": {
          "base_uri": "https://localhost:8080/"
        },
        "id": "FeOsRyTlF7QF",
        "outputId": "cb303f09-8a35-4351-e7cf-13e718fdbf00"
      },
      "execution_count": null,
      "outputs": [
        {
          "output_type": "execute_result",
          "data": {
            "text/plain": [
              "array([[  6,  18,  20, -10],\n",
              "       [  3,   9, -10,  -1],\n",
              "       [  1,   3,   5,  -2],\n",
              "       [  8,  24,  35, -15]])"
            ]
          },
          "metadata": {},
          "execution_count": 5
        }
      ]
    },
    {
      "cell_type": "code",
      "source": [
        "X = np.array([\n",
        "    [1,2,3,0]\n",
        "])\n",
        "Y = np.array([\n",
        "    [1,0,4,-1]\n",
        "])\n",
        "print(X.shape)\n",
        "print(Y.shape)"
      ],
      "metadata": {
        "colab": {
          "base_uri": "https://localhost:8080/"
        },
        "id": "VZLIBTChGGda",
        "outputId": "81ffb863-0a27-4377-b1ac-363a4a4e0c54"
      },
      "execution_count": null,
      "outputs": [
        {
          "output_type": "stream",
          "name": "stdout",
          "text": [
            "(1, 4)\n",
            "(1, 4)\n"
          ]
        }
      ]
    },
    {
      "cell_type": "code",
      "source": [
        "Y.T @ X"
      ],
      "metadata": {
        "colab": {
          "base_uri": "https://localhost:8080/"
        },
        "id": "4fSRV3ZfGKWJ",
        "outputId": "8b376aa1-1a41-488d-abdc-fe0a3a2dbd42"
      },
      "execution_count": null,
      "outputs": [
        {
          "output_type": "execute_result",
          "data": {
            "text/plain": [
              "array([[ 1,  2,  3,  0],\n",
              "       [ 0,  0,  0,  0],\n",
              "       [ 4,  8, 12,  0],\n",
              "       [-1, -2, -3,  0]])"
            ]
          },
          "metadata": {},
          "execution_count": 7
        }
      ]
    },
    {
      "cell_type": "markdown",
      "source": [
        "And you can see that when you try to multiply A and B, it returns `ValueError` pertaining to matrix shape mismatch."
      ],
      "metadata": {
        "id": "a6GLt5ttGM7k"
      }
    },
    {
      "cell_type": "markdown",
      "source": [
        "### Rule 2: Dot Product has special properties\n",
        "\n",
        "Dot products are prevalent in matrix algebra, this implies that it has several unique properties and it should be considered when formulation solutions:\n",
        " 1. $A \\cdot B \\neq B \\cdot A$\n",
        " 2. $A \\cdot (B \\cdot C) = (A \\cdot B) \\cdot C$\n",
        " 3. $A\\cdot(B+C) = A\\cdot B + A\\cdot C$\n",
        " 4. $(B+C)\\cdot A = B\\cdot A + C\\cdot A$\n",
        " 5. $A\\cdot I = A$\n",
        " 6. $A\\cdot \\emptyset = \\emptyset$ \n",
        "\n"
      ],
      "metadata": {
        "id": "OKfKvUVcGVt0"
      }
    },
    {
      "cell_type": "code",
      "source": [
        "A = np.array([\n",
        "    [3,2,1],\n",
        "    [4,5,1],\n",
        "    [1,1,0]\n",
        "])\n",
        "B = np.array([\n",
        "    [4,1,6],\n",
        "    [4,1,9],\n",
        "    [1,4,8]\n",
        "])\n",
        "C = np.array([\n",
        "    [1,1,0],\n",
        "    [0,1,1],\n",
        "    [1,0,1]\n",
        "])"
      ],
      "metadata": {
        "id": "ASEtJCZTHSqa"
      },
      "execution_count": null,
      "outputs": []
    },
    {
      "cell_type": "code",
      "source": [
        "A.dot(np.zeros(A.shape))"
      ],
      "metadata": {
        "colab": {
          "base_uri": "https://localhost:8080/"
        },
        "id": "QjQEdBymHYBr",
        "outputId": "17a7d984-a4f9-4ef9-caa1-7eb828692259"
      },
      "execution_count": null,
      "outputs": [
        {
          "output_type": "execute_result",
          "data": {
            "text/plain": [
              "array([[0., 0., 0.],\n",
              "       [0., 0., 0.],\n",
              "       [0., 0., 0.]])"
            ]
          },
          "metadata": {},
          "execution_count": 53
        }
      ]
    },
    {
      "cell_type": "code",
      "source": [
        "z_mat = np.zeros(A.shape)\n",
        "z_mat"
      ],
      "metadata": {
        "colab": {
          "base_uri": "https://localhost:8080/"
        },
        "id": "1N-_gl2yHZwv",
        "outputId": "5e4114c3-714a-4887-c5a4-ac9fd420dcff"
      },
      "execution_count": null,
      "outputs": [
        {
          "output_type": "execute_result",
          "data": {
            "text/plain": [
              "array([[0., 0., 0.],\n",
              "       [0., 0., 0.],\n",
              "       [0., 0., 0.]])"
            ]
          },
          "metadata": {},
          "execution_count": 54
        }
      ]
    },
    {
      "cell_type": "code",
      "source": [
        "a_dot_z = A.dot(np.zeros(A.shape))\n",
        "a_dot_z"
      ],
      "metadata": {
        "colab": {
          "base_uri": "https://localhost:8080/"
        },
        "id": "DyUFq-f1HeGX",
        "outputId": "a8f926dd-52af-46c6-8062-c078110b34b6"
      },
      "execution_count": null,
      "outputs": [
        {
          "output_type": "execute_result",
          "data": {
            "text/plain": [
              "array([[0., 0., 0.],\n",
              "       [0., 0., 0.],\n",
              "       [0., 0., 0.]])"
            ]
          },
          "metadata": {},
          "execution_count": 55
        }
      ]
    },
    {
      "cell_type": "code",
      "source": [
        "np.array_equal(a_dot_z,z_mat)"
      ],
      "metadata": {
        "colab": {
          "base_uri": "https://localhost:8080/"
        },
        "id": "Ic5C9W0sHhVO",
        "outputId": "f6a5f5d1-7215-4297-a900-98524f1baf45"
      },
      "execution_count": null,
      "outputs": [
        {
          "output_type": "execute_result",
          "data": {
            "text/plain": [
              "True"
            ]
          },
          "metadata": {},
          "execution_count": 56
        }
      ]
    },
    {
      "cell_type": "code",
      "source": [
        "null_mat = np.empty(A.shape, dtype=float)\n",
        "null = np.array(null_mat,dtype=float)\n",
        "print(null)\n",
        "np.allclose(a_dot_z,null)"
      ],
      "metadata": {
        "colab": {
          "base_uri": "https://localhost:8080/"
        },
        "id": "JxMOmQooHj5s",
        "outputId": "d3d169d8-a40b-488c-c5e5-cb3a4f3c0a5a"
      },
      "execution_count": null,
      "outputs": [
        {
          "output_type": "stream",
          "name": "stdout",
          "text": [
            "[[0. 0. 0.]\n",
            " [0. 0. 0.]\n",
            " [0. 0. 0.]]\n"
          ]
        },
        {
          "output_type": "execute_result",
          "data": {
            "text/plain": [
              "True"
            ]
          },
          "metadata": {},
          "execution_count": 57
        }
      ]
    },
    {
      "cell_type": "markdown",
      "source": [
        "## Determinant\n"
      ],
      "metadata": {
        "id": "D_SWbkjLGY_r"
      }
    },
    {
      "cell_type": "markdown",
      "source": [
        "A determinant is a scalar value derived from a square matrix. The determinant is a fundamental and important value used in matrix algebra. Although it will not be evident in this laboratory on how it can be used practically, but it will be reatly used in future lessons.\n",
        "\n",
        "The determinant of some matrix $A$ is denoted as $det(A)$ or $|A|$. So let's say $A$ is represented as:\n",
        "$$A = \\begin{bmatrix}a_{(0,0)}&a_{(0,1)}\\\\a_{(1,0)}&a_{(1,1)}\\end{bmatrix}$$\n",
        "We can compute for the determinant as:\n",
        "$$|A| = a_{(0,0)}*a_{(1,1)} - a_{(1,0)}*a_{(0,1)}$$\n",
        "So if we have $A$ as:\n",
        "$$A = \\begin{bmatrix}1&4\\\\0&3\\end{bmatrix}, |A| = 3$$\n",
        "\n",
        "But you might wonder how about square matrices beyond the shape $(2,2)$? We can approach this problem by using several methods such as co-factor expansion and the minors method. This can be taught in the lecture of the laboratory but we can achieve the strenuous computation of high-dimensional matrices programmatically using Python. We can achieve this by using `np.linalg.det()`."
      ],
      "metadata": {
        "id": "2jMLFLQ7Gdai"
      }
    },
    {
      "cell_type": "code",
      "source": [
        "O = np.array([\n",
        "    [1,2,3,4],\n",
        "    [5,12,7,0],\n",
        "    [9,1,11,12],\n",
        "    [13,4,1,6]\n",
        "])\n",
        "np.linalg.det(O)"
      ],
      "metadata": {
        "colab": {
          "base_uri": "https://localhost:8080/"
        },
        "id": "_9G2rwaAL-uT",
        "outputId": "2107ea53-a4d7-4596-fa29-35db463f1402"
      },
      "execution_count": null,
      "outputs": [
        {
          "output_type": "execute_result",
          "data": {
            "text/plain": [
              "-4199.999999999993"
            ]
          },
          "metadata": {},
          "execution_count": 70
        }
      ]
    },
    {
      "cell_type": "markdown",
      "source": [
        "try bigger matrices. this save time to solve"
      ],
      "metadata": {
        "id": "-U6XpPG6NhqI"
      }
    },
    {
      "cell_type": "code",
      "source": [
        "A = np.array([\n",
        "    [1,4],\n",
        "    [0,3]\n",
        "])\n",
        "np.linalg.det(A)"
      ],
      "metadata": {
        "colab": {
          "base_uri": "https://localhost:8080/"
        },
        "id": "_Swx41V9Gfb9",
        "outputId": "f5cc1d7c-373a-44c0-8e0f-98a4dc0ada5c"
      },
      "execution_count": null,
      "outputs": [
        {
          "output_type": "execute_result",
          "data": {
            "text/plain": [
              "3.0000000000000004"
            ]
          },
          "metadata": {},
          "execution_count": 47
        }
      ]
    },
    {
      "cell_type": "code",
      "source": [
        "## Now other mathematics classes would require you to solve this by hand, \n",
        "## and that is great for practicing your memorization and coordination skills \n",
        "## but in this class we aim for simplicity and speed so we'll use programming\n",
        "## but it's completely fine if you want to try to solve this one by hand.\n",
        "B = np.array([\n",
        "    [1,3,5,6],\n",
        "    [0,3,1,3],\n",
        "    [3,1,8,2],\n",
        "    [5,2,6,8]\n",
        "])\n",
        "np.linalg.det(B)"
      ],
      "metadata": {
        "colab": {
          "base_uri": "https://localhost:8080/"
        },
        "id": "JLp-J0okGkkI",
        "outputId": "9e63e39c-22b0-4ffe-d616-26abc4e0ef43"
      },
      "execution_count": null,
      "outputs": [
        {
          "output_type": "execute_result",
          "data": {
            "text/plain": [
              "-235.0000000000002"
            ]
          },
          "metadata": {},
          "execution_count": 48
        }
      ]
    },
    {
      "cell_type": "markdown",
      "source": [
        "## Inverse"
      ],
      "metadata": {
        "id": "vMh68xw3Gv_c"
      }
    },
    {
      "cell_type": "markdown",
      "source": [
        "The inverse of a matrix is simply the reciprocal of the matrix. When the inverse of a matrix is multiplied with its original matrix, it will yield to an identity matrix. Additionally,  the inverse of a matrix also helps in determining its solvability and characteristics as a linear equation, as well as solving the problem of divisibility between matrices. It provides related operations that have the same concept of dividing matrices.\n",
        "\n",
        "Here are the steps to determine the inverse of a matrix. Starting with a matrix $S$:\n",
        "$$S = \\begin{bmatrix}1&4\\\\3&2\\end{bmatrix}$$\n",
        "\n",
        "First, we need to get the determinant of $S$.\n",
        "\n",
        "$$|S| = (1)(2)-(4)(3) = -10$$\n",
        "\n",
        "Next, we need to reform the matrix into the inverse form:\n",
        "\n",
        "$$S^{-1} = \\frac{1}{|S|} \\begin{bmatrix} s_{(1,1)} & -s_{(0,1)} \\\\ -s_{(1,0)} & s_{(0,0)}\\end{bmatrix}$$\n",
        "\n",
        "So that will be:\n",
        "$$S^{-1} = \\frac{1}{-10} \\begin{bmatrix} 2 & -4 \\\\ -3 & 1\\end{bmatrix} = \\begin{bmatrix} \\frac{-1}{5} & \\frac{2}{5} \\\\ \\frac{3}{10} & \\frac{-1}{10}\\end{bmatrix}$$\n",
        "\n",
        "For higher-dimension matrices you might need to use co-factors, minors, adjugates, and other reduction techinques. To solve this programmatially we can use `np.linalg.inv()`."
      ],
      "metadata": {
        "id": "01Yu76_ZGz32"
      }
    },
    {
      "cell_type": "code",
      "source": [
        "S = np.array([\n",
        "    [1,4],\n",
        "    [3, 2]\n",
        "])\n",
        "\n",
        "np.array(S @ np.linalg.inv(S), dtype=int)"
      ],
      "metadata": {
        "colab": {
          "base_uri": "https://localhost:8080/"
        },
        "id": "ynklWApFG2_E",
        "outputId": "52fdf715-9dcc-4773-c22b-e3f49137de4e"
      },
      "execution_count": null,
      "outputs": [
        {
          "output_type": "execute_result",
          "data": {
            "text/plain": [
              "array([[1, 0],\n",
              "       [0, 1]])"
            ]
          },
          "metadata": {},
          "execution_count": 7
        }
      ]
    },
    {
      "cell_type": "code",
      "source": [
        "P = np.array([\n",
        "    [3,8,1],\n",
        "    [4,8,9],\n",
        "    [2,-6,0]\n",
        "])\n",
        "V = np.linalg.inv(P)\n",
        "V"
      ],
      "metadata": {
        "colab": {
          "base_uri": "https://localhost:8080/"
        },
        "id": "UCkAVPhUOd2k",
        "outputId": "4294b017-cea8-41c9-f9d8-2ced43a9c263"
      },
      "execution_count": null,
      "outputs": [
        {
          "output_type": "execute_result",
          "data": {
            "text/plain": [
              "array([[ 0.20300752, -0.02255639,  0.2406015 ],\n",
              "       [ 0.06766917, -0.0075188 , -0.08646617],\n",
              "       [-0.15037594,  0.12781955, -0.03007519]])"
            ]
          },
          "metadata": {},
          "execution_count": 71
        }
      ]
    },
    {
      "cell_type": "code",
      "source": [
        "P @ V"
      ],
      "metadata": {
        "colab": {
          "base_uri": "https://localhost:8080/"
        },
        "id": "wpUjUvshO45Y",
        "outputId": "905f5504-c905-4f02-c66b-ae15fddb9413"
      },
      "execution_count": null,
      "outputs": [
        {
          "output_type": "execute_result",
          "data": {
            "text/plain": [
              "array([[1., 0., 0.],\n",
              "       [0., 1., 0.],\n",
              "       [0., 0., 1.]])"
            ]
          },
          "metadata": {},
          "execution_count": 72
        }
      ]
    },
    {
      "cell_type": "code",
      "source": [
        "## And now let's test your skills in solving a matrix with high dimensions:\n",
        "N = np.array([\n",
        "    [18,5,23,1,0,33,5],\n",
        "    [0,45,0,11,2,4,2],\n",
        "    [5,9,20,0,0,0,3],\n",
        "    [1,6,4,4,8,43,1],\n",
        "    [8,6,8,7,1,6,1],\n",
        "    [-5,15,2,0,0,6,-30],\n",
        "    [-2,-5,1,2,1,20,12],\n",
        "])\n",
        "N_inv = np.linalg.inv(N)\n",
        "np.array(N @ N_inv,dtype=int)"
      ],
      "metadata": {
        "colab": {
          "base_uri": "https://localhost:8080/"
        },
        "id": "uwMbUmZWG6Cy",
        "outputId": "79211f5e-45d2-4079-ca47-644b0dce71ed"
      },
      "execution_count": null,
      "outputs": [
        {
          "output_type": "execute_result",
          "data": {
            "text/plain": [
              "array([[0, 0, 0, 0, 0, 0, 0],\n",
              "       [0, 0, 0, 0, 0, 0, 0],\n",
              "       [0, 0, 1, 0, 0, 0, 0],\n",
              "       [0, 0, 0, 1, 0, 0, 0],\n",
              "       [0, 0, 0, 0, 0, 0, 0],\n",
              "       [0, 0, 0, 0, 0, 0, 0],\n",
              "       [0, 0, 0, 0, 0, 0, 0]])"
            ]
          },
          "metadata": {},
          "execution_count": 50
        }
      ]
    },
    {
      "cell_type": "markdown",
      "source": [
        "To validate the whether the matrix that you have solved is really the inverse, we follow this dot product property for a matrix $S$:\n",
        "$$S\\cdot S^{-1} = I$$"
      ],
      "metadata": {
        "id": "XtcD5gsfG_aY"
      }
    },
    {
      "cell_type": "code",
      "source": [
        "squad = np.array([\n",
        "    [1.0, 1.0, 0.5],\n",
        "    [0.7, 0.7, 0.9],\n",
        "    [0.3, 0.3, 1.0]\n",
        "])\n",
        "weights = np.array([\n",
        "    [0.2, 0.2, 0.6]\n",
        "])\n",
        "p_grade = squad @ weights.T\n",
        "p_grade\n"
      ],
      "metadata": {
        "colab": {
          "base_uri": "https://localhost:8080/"
        },
        "id": "ElLLWfEWHA3E",
        "outputId": "96f88b9b-9dc7-4a68-e153-a456a8e731e6"
      },
      "execution_count": null,
      "outputs": [
        {
          "output_type": "execute_result",
          "data": {
            "text/plain": [
              "array([[0.7 ],\n",
              "       [0.82],\n",
              "       [0.72]])"
            ]
          },
          "metadata": {},
          "execution_count": 51
        }
      ]
    },
    {
      "cell_type": "markdown",
      "source": [
        "## Activity"
      ],
      "metadata": {
        "id": "H_z0QO1xHFFM"
      }
    },
    {
      "cell_type": "markdown",
      "source": [
        "### Task 1"
      ],
      "metadata": {
        "id": "3N88ur8wHKRr"
      }
    },
    {
      "cell_type": "markdown",
      "source": [
        "Prove and implement the remaining 6 matrix multiplication properties. You may create your own matrices in which their shapes should not be lower than $(3,3)$.\n",
        "In your methodology, create individual flowcharts for each property and discuss the property you would then present your proofs or validity of your implementation in the results section by comparing your result to present functions from NumPy.\n",
        "1. $A \\cdot B \\neq B \\cdot A$\n",
        "2. $A \\cdot (B \\cdot C) = (A \\cdot B) \\cdot C$\n",
        "3. $A\\cdot(B+C) = A\\cdot B + A\\cdot C$\n",
        "4. $(B+C)\\cdot A = B\\cdot A + C\\cdot A$\n",
        "5. $A\\cdot I = A$\n",
        "6. $A\\cdot \\emptyset = \\emptyset$ "
      ],
      "metadata": {
        "id": "yRRWyWIPHquD"
      }
    },
    {
      "cell_type": "code",
      "source": [
        "A = np.array([\n",
        "    [4,7,2],\n",
        "    [0,-2,0],\n",
        "    [3,5,1],     \n",
        "])\n",
        "\n",
        "B = np.array([\n",
        "    [-5,0,4],\n",
        "    [2,1,3],\n",
        "    [5,1,4],         \n",
        "])\n",
        "\n",
        "C = np.array([\n",
        "    [5,-4,0],\n",
        "    [9,2,-7],\n",
        "    [1,4,3],         \n",
        "])"
      ],
      "metadata": {
        "id": "JY3hpTLty_qT"
      },
      "execution_count": null,
      "outputs": []
    },
    {
      "cell_type": "markdown",
      "source": [
        "1. $A \\cdot B \\neq B \\cdot A$\n"
      ],
      "metadata": {
        "id": "pHe8zjWuIzgk"
      }
    },
    {
      "cell_type": "code",
      "source": [
        "Zack = A @ B\n",
        "Zack"
      ],
      "metadata": {
        "id": "oGLFxYaSHfrp",
        "colab": {
          "base_uri": "https://localhost:8080/"
        },
        "outputId": "afb121bd-9448-420f-8c04-ed2e9b8e11a9"
      },
      "execution_count": null,
      "outputs": [
        {
          "output_type": "execute_result",
          "data": {
            "text/plain": [
              "array([[ 4,  9, 45],\n",
              "       [-4, -2, -6],\n",
              "       [ 0,  6, 31]])"
            ]
          },
          "metadata": {},
          "execution_count": 17
        }
      ]
    },
    {
      "cell_type": "code",
      "source": [
        "Tabudlo = B @ A\n",
        "Tabudlo"
      ],
      "metadata": {
        "colab": {
          "base_uri": "https://localhost:8080/"
        },
        "id": "pCSDqQ-LKsfZ",
        "outputId": "50bc3c3f-90f5-4902-fdfc-b8632cd7bb51"
      },
      "execution_count": null,
      "outputs": [
        {
          "output_type": "execute_result",
          "data": {
            "text/plain": [
              "array([[ -8, -15,  -6],\n",
              "       [ 17,  27,   7],\n",
              "       [ 32,  53,  14]])"
            ]
          },
          "metadata": {},
          "execution_count": 18
        }
      ]
    },
    {
      "cell_type": "code",
      "source": [
        "np.array_equal(Zack,Tabudlo)"
      ],
      "metadata": {
        "colab": {
          "base_uri": "https://localhost:8080/"
        },
        "id": "vjWye2PIKwyY",
        "outputId": "d6e9703b-c63d-4e99-ce22-0a9d5fb2efce"
      },
      "execution_count": null,
      "outputs": [
        {
          "output_type": "execute_result",
          "data": {
            "text/plain": [
              "False"
            ]
          },
          "metadata": {},
          "execution_count": 19
        }
      ]
    },
    {
      "cell_type": "markdown",
      "source": [
        "2. $A \\cdot (B \\cdot C) = (A \\cdot B) \\cdot C$\n"
      ],
      "metadata": {
        "id": "gx0aUuYwI2IU"
      }
    },
    {
      "cell_type": "code",
      "source": [
        "Converse = A @ (B @ C)\n",
        "Converse"
      ],
      "metadata": {
        "colab": {
          "base_uri": "https://localhost:8080/"
        },
        "id": "HFff9hrlJOwA",
        "outputId": "35f5804b-690b-4bb5-9893-902242ff30fd"
      },
      "execution_count": null,
      "outputs": [
        {
          "output_type": "execute_result",
          "data": {
            "text/plain": [
              "array([[146, 182,  72],\n",
              "       [-44, -12,  -4],\n",
              "       [ 85, 136,  51]])"
            ]
          },
          "metadata": {},
          "execution_count": 16
        }
      ]
    },
    {
      "cell_type": "code",
      "source": [
        "High = (A @ B) @ C\n",
        "High"
      ],
      "metadata": {
        "colab": {
          "base_uri": "https://localhost:8080/"
        },
        "id": "iGholQLLJde4",
        "outputId": "2e51affa-0e47-4cf8-9bef-73fb0f11d811"
      },
      "execution_count": null,
      "outputs": [
        {
          "output_type": "execute_result",
          "data": {
            "text/plain": [
              "array([[146, 182,  72],\n",
              "       [-44, -12,  -4],\n",
              "       [ 85, 136,  51]])"
            ]
          },
          "metadata": {},
          "execution_count": 17
        }
      ]
    },
    {
      "cell_type": "code",
      "source": [
        "np.array_equal(Converse,High)"
      ],
      "metadata": {
        "colab": {
          "base_uri": "https://localhost:8080/"
        },
        "id": "5r7GinevKjy7",
        "outputId": "adf39198-67df-4e52-cf5d-0cbde918a164"
      },
      "execution_count": null,
      "outputs": [
        {
          "output_type": "execute_result",
          "data": {
            "text/plain": [
              "True"
            ]
          },
          "metadata": {},
          "execution_count": 18
        }
      ]
    },
    {
      "cell_type": "markdown",
      "source": [
        "3. $A\\cdot(B+C) = A\\cdot B + A\\cdot C$\n"
      ],
      "metadata": {
        "id": "0PNd9oqRI8Mz"
      }
    },
    {
      "cell_type": "code",
      "source": [
        "HELLO = A @ (B + C)\n",
        "HELLO"
      ],
      "metadata": {
        "id": "UtSE56SpHm0F",
        "colab": {
          "base_uri": "https://localhost:8080/"
        },
        "outputId": "dbade3fb-eef5-48e6-8c5b-4e4c0e6e6a15"
      },
      "execution_count": null,
      "outputs": [
        {
          "output_type": "execute_result",
          "data": {
            "text/plain": [
              "array([[ 89,  15,   2],\n",
              "       [-22,  -6,   8],\n",
              "       [ 61,   8,  -1]])"
            ]
          },
          "metadata": {},
          "execution_count": 7
        }
      ]
    },
    {
      "cell_type": "code",
      "source": [
        "WORLD = A @ B + A @ C\n",
        "WORLD"
      ],
      "metadata": {
        "colab": {
          "base_uri": "https://localhost:8080/"
        },
        "id": "izdYs8BZITJT",
        "outputId": "c2f8932f-0fb1-40c3-b2a1-2a4b2a782a9e"
      },
      "execution_count": null,
      "outputs": [
        {
          "output_type": "execute_result",
          "data": {
            "text/plain": [
              "array([[ 89,  15,   2],\n",
              "       [-22,  -6,   8],\n",
              "       [ 61,   8,  -1]])"
            ]
          },
          "metadata": {},
          "execution_count": 9
        }
      ]
    },
    {
      "cell_type": "code",
      "source": [
        "np.array_equal(HELLO,WORLD)"
      ],
      "metadata": {
        "colab": {
          "base_uri": "https://localhost:8080/"
        },
        "id": "Wk2CWw80ImMK",
        "outputId": "165737f8-ef25-4632-9025-4c4107c30f98"
      },
      "execution_count": null,
      "outputs": [
        {
          "output_type": "execute_result",
          "data": {
            "text/plain": [
              "True"
            ]
          },
          "metadata": {},
          "execution_count": 10
        }
      ]
    },
    {
      "cell_type": "markdown",
      "source": [
        "4. $(B+C)\\cdot A = B\\cdot A + C\\cdot A$\n"
      ],
      "metadata": {
        "id": "CexMzc5oJAfq"
      }
    },
    {
      "cell_type": "code",
      "source": [
        "Miss = (B + C) @ A\n",
        "Miss"
      ],
      "metadata": {
        "colab": {
          "base_uri": "https://localhost:8080/"
        },
        "id": "9FxqN6PmK6ZQ",
        "outputId": "4321cf92-c295-44e2-b82a-f9f92fdc44d0"
      },
      "execution_count": null,
      "outputs": [
        {
          "output_type": "execute_result",
          "data": {
            "text/plain": [
              "array([[12, 28,  4],\n",
              "       [32, 51, 18],\n",
              "       [45, 67, 19]])"
            ]
          },
          "metadata": {},
          "execution_count": 15
        }
      ]
    },
    {
      "cell_type": "code",
      "source": [
        "Right = B @ A + C @ A\n",
        "Right"
      ],
      "metadata": {
        "colab": {
          "base_uri": "https://localhost:8080/"
        },
        "id": "9tGCZ_cVLSIO",
        "outputId": "ed2138db-273e-4f4e-fb15-0ca3dedee06e"
      },
      "execution_count": null,
      "outputs": [
        {
          "output_type": "execute_result",
          "data": {
            "text/plain": [
              "array([[12, 28,  4],\n",
              "       [32, 51, 18],\n",
              "       [45, 67, 19]])"
            ]
          },
          "metadata": {},
          "execution_count": 19
        }
      ]
    },
    {
      "cell_type": "code",
      "source": [
        "np.array_equal(Miss,Right)"
      ],
      "metadata": {
        "colab": {
          "base_uri": "https://localhost:8080/"
        },
        "id": "Glqpoew7Lb8R",
        "outputId": "dba4d1db-c82d-4297-dc6a-c8345e0b22a2"
      },
      "execution_count": null,
      "outputs": [
        {
          "output_type": "execute_result",
          "data": {
            "text/plain": [
              "True"
            ]
          },
          "metadata": {},
          "execution_count": 20
        }
      ]
    },
    {
      "cell_type": "markdown",
      "source": [
        "5. $A\\cdot I = A$\n"
      ],
      "metadata": {
        "id": "PZ17fnMJJFKm"
      }
    },
    {
      "cell_type": "code",
      "source": [
        "CUTE = np.identity(3)\n",
        "CUTE"
      ],
      "metadata": {
        "colab": {
          "base_uri": "https://localhost:8080/"
        },
        "id": "_qhphnH0Iu--",
        "outputId": "692ae0b7-8ffb-45d2-99ec-453801cfaaa4"
      },
      "execution_count": null,
      "outputs": [
        {
          "output_type": "execute_result",
          "data": {
            "text/plain": [
              "array([[1., 0., 0.],\n",
              "       [0., 1., 0.],\n",
              "       [0., 0., 1.]])"
            ]
          },
          "metadata": {},
          "execution_count": 14
        }
      ]
    },
    {
      "cell_type": "code",
      "source": [
        "AKO = A.dot(np.identity(3))\n",
        "AKO"
      ],
      "metadata": {
        "colab": {
          "base_uri": "https://localhost:8080/"
        },
        "id": "eTO75tPRJ81b",
        "outputId": "4db64366-c52a-4148-d602-554cd1eb099a"
      },
      "execution_count": null,
      "outputs": [
        {
          "output_type": "execute_result",
          "data": {
            "text/plain": [
              "array([[ 4.,  7.,  2.],\n",
              "       [ 0., -2.,  0.],\n",
              "       [ 3.,  5.,  1.]])"
            ]
          },
          "metadata": {},
          "execution_count": 15
        }
      ]
    },
    {
      "cell_type": "code",
      "source": [
        "np.array_equal(A, AKO) "
      ],
      "metadata": {
        "colab": {
          "base_uri": "https://localhost:8080/"
        },
        "id": "svjG3-VjKP6x",
        "outputId": "0abeccc0-24b1-4c13-9303-6dca72cbf791"
      },
      "execution_count": null,
      "outputs": [
        {
          "output_type": "execute_result",
          "data": {
            "text/plain": [
              "True"
            ]
          },
          "metadata": {},
          "execution_count": 16
        }
      ]
    },
    {
      "cell_type": "markdown",
      "source": [
        "6. $A\\cdot \\emptyset = \\emptyset$ "
      ],
      "metadata": {
        "id": "FfDEyZydJIkC"
      }
    },
    {
      "cell_type": "code",
      "source": [
        "Spring = np.zeros(A.shape)\n",
        "Spring"
      ],
      "metadata": {
        "colab": {
          "base_uri": "https://localhost:8080/"
        },
        "id": "Yv1F_rgRLiu2",
        "outputId": "86bd46c6-f210-4948-9a99-0bfe641b85f8"
      },
      "execution_count": null,
      "outputs": [
        {
          "output_type": "execute_result",
          "data": {
            "text/plain": [
              "array([[0., 0., 0.],\n",
              "       [0., 0., 0.],\n",
              "       [0., 0., 0.]])"
            ]
          },
          "metadata": {},
          "execution_count": 22
        }
      ]
    },
    {
      "cell_type": "code",
      "source": [
        "Day = A.dot(np.zeros(A.shape))\n",
        "Day"
      ],
      "metadata": {
        "colab": {
          "base_uri": "https://localhost:8080/"
        },
        "id": "Z9a5iWH7LuL4",
        "outputId": "3f3443fa-b85b-45a4-966c-40fe4d7b09b4"
      },
      "execution_count": null,
      "outputs": [
        {
          "output_type": "execute_result",
          "data": {
            "text/plain": [
              "array([[0., 0., 0.],\n",
              "       [0., 0., 0.],\n",
              "       [0., 0., 0.]])"
            ]
          },
          "metadata": {},
          "execution_count": 23
        }
      ]
    },
    {
      "cell_type": "code",
      "source": [
        "np.array_equal(Spring, Day)"
      ],
      "metadata": {
        "colab": {
          "base_uri": "https://localhost:8080/"
        },
        "id": "JZwzFiAFL1Eu",
        "outputId": "39b30b53-88fd-412e-88d5-3057706ab90b"
      },
      "execution_count": null,
      "outputs": [
        {
          "output_type": "execute_result",
          "data": {
            "text/plain": [
              "True"
            ]
          },
          "metadata": {},
          "execution_count": 24
        }
      ]
    },
    {
      "cell_type": "markdown",
      "source": [
        "## Conclusion"
      ],
      "metadata": {
        "id": "5kOYgJ9tHtFe"
      }
    },
    {
      "cell_type": "markdown",
      "source": [
        "The laboratory activity gave students an opportunity to master Python fundamentals particularly concerning operations on matrices. It is in this module that Transposition, Dot Product, Rules on Matrix Operations, Determinant, Inverse, and Properties on Matrix Multiplication is learned and analyzed. At the end of the module, users are able to produce an output that proves the validity of the Properties on Matrix Multiplication by giving concrete example of codes. \n",
        " \n",
        "Matrix operations and properties are essential topics to be mastered not only in Programming courses but also in different fields. Specifically, matrix operations are also used in the medical field as the new generation of information technology uses matrix operations in developing systems that further adapt to modern day technology. Matrix operations are used as a solution to the growing problems of database, organization, and framework in the healthcare industry. Without matrix operations, the jobs needed to perform by healthcare professionals each day are doubled or further delayed due to slow process.\n"
      ],
      "metadata": {
        "id": "Nq_q4jwKWptG"
      }
    }
  ]
}