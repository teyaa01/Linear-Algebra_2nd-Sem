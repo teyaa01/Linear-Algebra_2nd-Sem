{
  "nbformat": 4,
  "nbformat_minor": 0,
  "metadata": {
    "colab": {
      "name": "Assignment 5.ipynb",
      "provenance": [],
      "authorship_tag": "ABX9TyPD/wQzrO7tHHZubk7g1u4Y",
      "include_colab_link": true
    },
    "kernelspec": {
      "name": "python3",
      "display_name": "Python 3"
    },
    "language_info": {
      "name": "python"
    }
  },
  "cells": [
    {
      "cell_type": "markdown",
      "metadata": {
        "id": "view-in-github",
        "colab_type": "text"
      },
      "source": [
        "<a href=\"https://colab.research.google.com/github/teyaa01/Linear-Algebra_2nd-Sem/blob/main/Assignment_5.ipynb\" target=\"_parent\"><img src=\"https://colab.research.google.com/assets/colab-badge.svg\" alt=\"Open In Colab\"/></a>"
      ]
    },
    {
      "cell_type": "markdown",
      "source": [
        "# Lab 2 - Plotting Vector using NumPy and MatPlotLib"
      ],
      "metadata": {
        "id": "ZPV2fijPzgsn"
      }
    },
    {
      "cell_type": "markdown",
      "source": [
        "In this laboratory, the basics of numerical and scientific programming by working with Vectors using NumPy and MatPlotLib will be discussed. To achieve the objectives the following concepts/terms will be covered:\n",
        "*   Numpy\n",
        "    *   Representing Vectors\n",
        "    *   Describing Vectors in NumPy\n",
        "    *   Addition\n",
        "    *   Scaling\n",
        "*   MatPlotLib\n",
        "    *   Visualizing Data\n",
        "    *   List item\n",
        "\n",
        "\n",
        "\n"
      ],
      "metadata": {
        "id": "LMr1sRb7znFQ"
      }
    },
    {
      "cell_type": "markdown",
      "source": [
        "### Numpy"
      ],
      "metadata": {
        "id": "tHVt0flOZXrV"
      }
    },
    {
      "cell_type": "markdown",
      "source": [
        "NumPy or Numerical Python, is mainly used for matrix and vector operations. It is capable of declaring computing and representing matrices. Most Python scientific programming libraries uses NumPy as the basic code."
      ],
      "metadata": {
        "id": "oc1VsSC1ZeX0"
      }
    },
    {
      "cell_type": "markdown",
      "source": [
        "Scalars \\\\\n",
        "Represent magnitude or a single value\n",
        "\n",
        "Vectors \\\\\n",
        "Represent magnitude with directors"
      ],
      "metadata": {
        "id": "0zYl3iwwz90R"
      }
    },
    {
      "cell_type": "markdown",
      "source": [
        "#### Representing Vectors"
      ],
      "metadata": {
        "id": "t8NYvBit0Bss"
      }
    },
    {
      "cell_type": "markdown",
      "source": [
        "Now that you know how to represent vectors using their component and matrix form we can now hard-code them in Python. Let's say that you have the vectors:"
      ],
      "metadata": {
        "id": "TfpOfkvh0FhA"
      }
    },
    {
      "cell_type": "markdown",
      "source": [
        "$$ Anya = - 6\\hat{x} + 10\\hat{y} -3\\hat{z} \\\\\n",
        "Loid = 25\\hat{x} - 35\\hat{y} + 45\\hat{z}\\\\\n",
        "Yor = 100ax + 40ay - 3az \\\\\n",
        "Franky = 5\\hat{i} - 8\\hat{j} + 4\\hat{k}$$"
      ],
      "metadata": {
        "id": "EcYelKvdZkyY"
      }
    },
    {
      "cell_type": "markdown",
      "source": [
        "In which it's matrix equivalent is:"
      ],
      "metadata": {
        "id": "DYXwvAzyZqf-"
      }
    },
    {
      "cell_type": "markdown",
      "source": [
        "$$ Anya = \\begin{bmatrix} -6 \\\\ 10 \\\\ -3\\end{bmatrix} , Loid = \\begin{bmatrix} 25 \\\\ -35 \\\\ + 45\\end{bmatrix} , Yor = \\begin{bmatrix} 100 \\\\ 40 \\\\  -3 \\end{bmatrix}, Franky = \\begin{bmatrix} 5 \\\\ -8 \\\\ 4\\end{bmatrix}\n",
        "$$\n",
        "\n",
        "\n",
        "$$ Anya = \\begin{bmatrix} -6 & 10 & -3\\end{bmatrix} , Loid = \\begin{bmatrix} 25 & -35 & 45\\end{bmatrix} , Yor = \\begin{bmatrix} 100 & 40 & -3\\end{bmatrix} , Franky = \\begin{bmatrix} 5 & -8 & 4\\end{bmatrix} \n",
        "$$"
      ],
      "metadata": {
        "id": "nFbYiFszZsES"
      }
    },
    {
      "cell_type": "markdown",
      "source": [
        "We can then start doing numpy code with this by:"
      ],
      "metadata": {
        "id": "NvTTbwbwZz66"
      }
    },
    {
      "cell_type": "code",
      "source": [
        "## Importing necessary libraries\n",
        "import numpy as np ## 'np' here is short-hand name of the library (numpy) or a nickname."
      ],
      "metadata": {
        "id": "omlSp2b5Z4VJ"
      },
      "execution_count": 1,
      "outputs": []
    },
    {
      "cell_type": "code",
      "source": [
        "Anya = np.array([-6, 10, -3])\n",
        "Loid = np.array([25, -35, 45])\n",
        "Yor = np.array([\n",
        "              [100],\n",
        "              [40],\n",
        "              [-3]\n",
        "])\n",
        "Franky = np.array ([[5],\n",
        "                  [-8],\n",
        "                  [4]])\n",
        "\n",
        "print('Vector Anya is ', Anya, \"\\n\")\n",
        "print('Vector Loid is ', Loid, \"\\n\")\n",
        "print('Vector Yor is ', Yor, \"\\n\")\n",
        "print('Vector Franky is ', Franky, \"\\n\")"
      ],
      "metadata": {
        "colab": {
          "base_uri": "https://localhost:8080/"
        },
        "id": "Fr4GWPj3Z-iC",
        "outputId": "880f4d68-77ea-4c83-e4bf-e84f818e24db"
      },
      "execution_count": 4,
      "outputs": [
        {
          "output_type": "stream",
          "name": "stdout",
          "text": [
            "Vector Anya is  [-6 10 -3] \n",
            "\n",
            "Vector Loid is  [ 25 -35  45] \n",
            "\n",
            "Vector Yor is  [[100]\n",
            " [ 40]\n",
            " [ -3]] \n",
            "\n",
            "Vector Franky is  [[ 5]\n",
            " [-8]\n",
            " [ 4]] \n",
            "\n"
          ]
        }
      ]
    },
    {
      "cell_type": "markdown",
      "source": [
        "#### Describing vectors in NumPy"
      ],
      "metadata": {
        "id": "IJ6IacvQaDhy"
      }
    },
    {
      "cell_type": "markdown",
      "source": [
        "Describing vectors is very important if we want to perform basic to advanced operations with them. The fundamental ways in describing vectors are knowing their shape, size and dimensions."
      ],
      "metadata": {
        "id": "sjwYXOsDaGtN"
      }
    },
    {
      "cell_type": "code",
      "source": [
        "### Checking shapes\n",
        "### Shapes tells us how many elements are there on each row and column\n",
        "\n",
        "A.shape\n",
        "H = np.array([1, 0, 2, 5, -0.2, 0])\n",
        "H.shape\n",
        "C.shape"
      ],
      "metadata": {
        "colab": {
          "base_uri": "https://localhost:8080/"
        },
        "id": "pvaWHkb5aLsr",
        "outputId": "f4e0911b-3163-4a91-f5ba-47f039cbdd8a"
      },
      "execution_count": null,
      "outputs": [
        {
          "output_type": "execute_result",
          "data": {
            "text/plain": [
              "(3, 1)"
            ]
          },
          "metadata": {},
          "execution_count": 3
        }
      ]
    },
    {
      "cell_type": "code",
      "source": [
        "### Checking size\n",
        "### Array/Vector sizes tells us many total number of elements are there in the vector\n",
        "\n",
        "D.size"
      ],
      "metadata": {
        "colab": {
          "base_uri": "https://localhost:8080/"
        },
        "id": "_osVALYraPkQ",
        "outputId": "d32af1bd-727c-4f20-9a62-9d8bb0d752ba"
      },
      "execution_count": null,
      "outputs": [
        {
          "output_type": "execute_result",
          "data": {
            "text/plain": [
              "3"
            ]
          },
          "metadata": {},
          "execution_count": 4
        }
      ]
    },
    {
      "cell_type": "code",
      "source": [
        "### Checking dimensions\n",
        "### The dimensions or rank of a vector tells us how many dimensions are there for the vector.\n",
        "\n",
        "D.ndim"
      ],
      "metadata": {
        "colab": {
          "base_uri": "https://localhost:8080/"
        },
        "id": "W1ew4Ck3aRLI",
        "outputId": "3cfba618-4ca0-481e-ec0e-4ed6b45515fc"
      },
      "execution_count": null,
      "outputs": [
        {
          "output_type": "execute_result",
          "data": {
            "text/plain": [
              "2"
            ]
          },
          "metadata": {},
          "execution_count": 5
        }
      ]
    },
    {
      "cell_type": "markdown",
      "source": [
        "Great! Now let's try to explore in performing operations with these vectors."
      ],
      "metadata": {
        "id": "teXXAuX4aWFQ"
      }
    },
    {
      "cell_type": "markdown",
      "source": [
        "#### Addition"
      ],
      "metadata": {
        "id": "cm0nwVi0aYyc"
      }
    },
    {
      "cell_type": "markdown",
      "source": [
        "The addition rule is simple, the we just need to add the elements of the matrices according to their index. So in this case if we add vector $A$ and vector $B$ we will have a resulting vector:"
      ],
      "metadata": {
        "id": "YHLDDsd4abP2"
      }
    },
    {
      "cell_type": "markdown",
      "source": [
        "$$R = 6\\hat{x}-2\\hat{y} \\\\ \\\\or \\\\ \\\\ R = \\begin{bmatrix} 6 \\\\ -2\\end{bmatrix} $$"
      ],
      "metadata": {
        "id": "Yas1wexZadkC"
      }
    },
    {
      "cell_type": "markdown",
      "source": [
        "So let's try to do that in NumPy in several number of ways:"
      ],
      "metadata": {
        "id": "mZL53WFWah7j"
      }
    },
    {
      "cell_type": "code",
      "source": [
        "R = np.add(A, B) ## this is the functional method usisng the numpy library\n",
        "P = np.add(C, D)\n"
      ],
      "metadata": {
        "id": "3-0gHIRXajay"
      },
      "execution_count": null,
      "outputs": []
    },
    {
      "cell_type": "code",
      "source": [
        "R = A + B   ## this is the explicit method, since Python does a value-reference so it can \n",
        "            ## know that these variables would need to do array operations.\n",
        "R"
      ],
      "metadata": {
        "colab": {
          "base_uri": "https://localhost:8080/"
        },
        "id": "dNU0g8F8am3B",
        "outputId": "7909a6dc-0974-4525-84b0-8e63568a38c3"
      },
      "execution_count": null,
      "outputs": [
        {
          "output_type": "execute_result",
          "data": {
            "text/plain": [
              "array([ 6, -2])"
            ]
          },
          "metadata": {},
          "execution_count": 7
        }
      ]
    },
    {
      "cell_type": "code",
      "source": [
        "pos1 = np.array([0,0,0])\n",
        "pos2 = np.array([0,1,3])\n",
        "pos3 = np.array([1,5,-2])\n",
        "pos4 = np.array([5,-3,3])\n",
        "#R = pos1 + pos2 + pos3 + pos4\n",
        "#R = np.multiply(pos3, pos4)\n",
        "R = pos3 / pos4\n",
        "R"
      ],
      "metadata": {
        "colab": {
          "base_uri": "https://localhost:8080/"
        },
        "id": "8yJCMcIfapTx",
        "outputId": "275b78b0-afaf-4462-b44c-804ab41a67ec"
      },
      "execution_count": null,
      "outputs": [
        {
          "output_type": "execute_result",
          "data": {
            "text/plain": [
              "array([ 0.2       , -1.66666667, -0.66666667])"
            ]
          },
          "metadata": {},
          "execution_count": 8
        }
      ]
    },
    {
      "cell_type": "markdown",
      "source": [
        "##### Try for yourself!"
      ],
      "metadata": {
        "id": "iKalMLTgasxK"
      }
    },
    {
      "cell_type": "markdown",
      "source": [
        "Try to implement subtraction, multiplication, and division with vectors $A$ and $B$!"
      ],
      "metadata": {
        "id": "ZMqEIFseavTZ"
      }
    },
    {
      "cell_type": "code",
      "source": [
        "### Try out you code here! \n",
        "\n"
      ],
      "metadata": {
        "id": "3dX5rXMMax_0"
      },
      "execution_count": null,
      "outputs": []
    },
    {
      "cell_type": "markdown",
      "source": [
        "### Scaling"
      ],
      "metadata": {
        "id": "xmfwQHkqa05O"
      }
    },
    {
      "cell_type": "markdown",
      "source": [
        "Scaling or scalar multiplication takes a scalar value and performs multiplication with a vector. Let's take the example below:"
      ],
      "metadata": {
        "id": "u1q9yDHna4LS"
      }
    },
    {
      "cell_type": "markdown",
      "source": [
        "$$S = 5 \\cdot A$$"
      ],
      "metadata": {
        "id": "_ayF3-3la6ea"
      }
    },
    {
      "cell_type": "markdown",
      "source": [
        "We can do this in numpy through:"
      ],
      "metadata": {
        "id": "5oWyVnWfbAG2"
      }
    },
    {
      "cell_type": "code",
      "source": [
        "#S = 5 * A\n",
        "S = np.multiply(5,A)\n",
        "S"
      ],
      "metadata": {
        "colab": {
          "base_uri": "https://localhost:8080/"
        },
        "id": "h6iNx7FObDLC",
        "outputId": "1c3290ae-2c95-48ce-9ef2-297624a88e3c"
      },
      "execution_count": null,
      "outputs": [
        {
          "output_type": "execute_result",
          "data": {
            "text/plain": [
              "array([20, 15])"
            ]
          },
          "metadata": {},
          "execution_count": 10
        }
      ]
    },
    {
      "cell_type": "markdown",
      "source": [
        "Try to implement scaling with two vectors."
      ],
      "metadata": {
        "id": "TK3xGVUzbEii"
      }
    },
    {
      "cell_type": "code",
      "source": [
        ""
      ],
      "metadata": {
        "id": "Jn32dLz5bGnK"
      },
      "execution_count": null,
      "outputs": []
    },
    {
      "cell_type": "markdown",
      "source": [
        "### MatPlotLib"
      ],
      "metadata": {
        "id": "KQusmk8ubOci"
      }
    },
    {
      "cell_type": "markdown",
      "source": [
        "MatPlotLib or MATLab Plotting library is Python's take on MATLabs plotting feature. MatPlotLib can be used vastly from graping values to visualizing several dimensions of data."
      ],
      "metadata": {
        "id": "Sk0w8z5pbRyF"
      }
    },
    {
      "cell_type": "markdown",
      "source": [
        "#### Visualizing Data"
      ],
      "metadata": {
        "id": "w9pjVU9FbViJ"
      }
    },
    {
      "cell_type": "markdown",
      "source": [
        "It's not enough just solving these vectors so might need to visualize them. So we'll use MatPlotLib for that. We'll need to import it first."
      ],
      "metadata": {
        "id": "WecJ9_H1bXoR"
      }
    },
    {
      "cell_type": "code",
      "source": [
        "import matplotlib.pyplot as plt\n",
        "import matplotlib\n",
        "%matplotlib inline"
      ],
      "metadata": {
        "id": "iKk_X2pObZTg"
      },
      "execution_count": null,
      "outputs": []
    },
    {
      "cell_type": "code",
      "source": [
        "A = [1, -1]\n",
        "B = [5, -1]\n",
        "plt.scatter(A[0], A[1], label='A', c='green')\n",
        "plt.scatter(B[0], B[1], label='B', c='magenta')\n",
        "plt.grid()\n",
        "plt.legend()\n",
        "plt.show()"
      ],
      "metadata": {
        "colab": {
          "base_uri": "https://localhost:8080/",
          "height": 265
        },
        "id": "qZ7z2M81bcfJ",
        "outputId": "58ee51bd-a273-4976-b79f-99f1af18617b"
      },
      "execution_count": null,
      "outputs": [
        {
          "output_type": "display_data",
          "data": {
            "text/plain": [
              "<Figure size 432x288 with 1 Axes>"
            ],
            "image/png": "[encoded data removed]"
          },
          "metadata": {
            "needs_background": "light"
          }
        }
      ]
    },
    {
      "cell_type": "code",
      "source": [
        "A = np.array([1, -1])\n",
        "B = np.array([1, 5])\n",
        "R = A + B\n",
        "Magnitude = np.sqrt(np.sum(R**2))\n",
        "plt.title(\"Resultant Vector\\nMagnitude:{}\" .format(Magnitude))\n",
        "plt.xlim(-5, 5)\n",
        "plt.ylim(-5, 5)\n",
        "plt.quiver(0, 0, A[0], A[1], angles='xy', scale_units='xy', scale=1, color='red')\n",
        "plt.quiver(A[0], A[1], B[0], B[1], angles='xy', scale_units='xy', scale=1, color='green')\n",
        "plt.quiver(0, 0, R[0], R[1], angles='xy', scale_units='xy', scale=1, color='black')\n",
        "plt.grid()\n",
        "plt.show()\n",
        "print(R)\n",
        "\n",
        "print(Magnitude)\n",
        "Slope = R[1]/R[0]\n",
        "print(Slope)\n",
        "Angle = (np.arctan(Slope))*(180/np.pi)\n",
        "print(Angle)"
      ],
      "metadata": {
        "colab": {
          "base_uri": "https://localhost:8080/",
          "height": 365
        },
        "id": "HiudaHo2bmBe",
        "outputId": "ef7c88c5-4a95-4272-eaf6-adb20f9853bd"
      },
      "execution_count": null,
      "outputs": [
        {
          "output_type": "display_data",
          "data": {
            "text/plain": [
              "<Figure size 432x288 with 1 Axes>"
            ],
            "image/png": "[encoded data removed]"
          },
          "metadata": {
            "needs_background": "light"
          }
        },
        {
          "output_type": "stream",
          "name": "stdout",
          "text": [
            "[2 4]\n",
            "4.47213595499958\n",
            "2.0\n",
            "63.43494882292201\n"
          ]
        }
      ]
    },
    {
      "cell_type": "code",
      "source": [
        "n = A.shape[0]\n",
        "plt.xlim(-5, 5)\n",
        "plt.ylim(-5, 5)\n",
        "plt.quiver(0,0, A[0], A[1], angles='xy', scale_units='xy',scale=1)\n",
        "plt.quiver(A[0],A[1], B[0], B[1], angles='xy', scale_units='xy',scale=1)\n",
        "plt.quiver(0,0, R[0], R[1], angles='xy', scale_units='xy',scale=1)\n",
        "plt.show()"
      ],
      "metadata": {
        "colab": {
          "base_uri": "https://localhost:8080/",
          "height": 265
        },
        "id": "dXC0Jl0ibzqP",
        "outputId": "da5d4550-8e4c-4516-a6d7-55d2590a79e5"
      },
      "execution_count": null,
      "outputs": [
        {
          "output_type": "display_data",
          "data": {
            "text/plain": [
              "<Figure size 432x288 with 1 Axes>"
            ],
            "image/png": "[encoded data removed]"
          },
          "metadata": {
            "needs_background": "light"
          }
        }
      ]
    },
    {
      "cell_type": "markdown",
      "source": [
        "Try plotting Three Vectors and show the Resultant Vector as a result.\n",
        "Use Head to Tail Method."
      ],
      "metadata": {
        "id": "DcsvqmbZb3fZ"
      }
    },
    {
      "cell_type": "code",
      "source": [
        ""
      ],
      "metadata": {
        "id": "RVC0DAxdb5aB"
      },
      "execution_count": null,
      "outputs": []
    }
  ]
}