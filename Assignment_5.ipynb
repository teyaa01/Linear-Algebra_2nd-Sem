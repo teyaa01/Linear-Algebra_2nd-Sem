{
  "nbformat": 4,
  "nbformat_minor": 0,
  "metadata": {
    "colab": {
      "name": "Assignment 5.ipynb",
      "provenance": [],
      "collapsed_sections": [],
      "include_colab_link": true
    },
    "kernelspec": {
      "name": "python3",
      "display_name": "Python 3"
    },
    "language_info": {
      "name": "python"
    }
  },
  "cells": [
    {
      "cell_type": "markdown",
      "metadata": {
        "id": "view-in-github",
        "colab_type": "text"
      },
      "source": [
        "<a href=\"https://colab.research.google.com/github/teyaa01/Linear-Algebra_2nd-Sem/blob/main/Assignment_5.ipynb\" target=\"_parent\"><img src=\"https://colab.research.google.com/assets/colab-badge.svg\" alt=\"Open In Colab\"/></a>"
      ]
    },
    {
      "cell_type": "markdown",
      "source": [
        "# Lab 2 - Plotting Vector using NumPy and MatPlotLib"
      ],
      "metadata": {
        "id": "ZPV2fijPzgsn"
      }
    },
    {
      "cell_type": "markdown",
      "source": [
        "The laboratory activity discusses the basics of numerical and scientific programming by working with Vectors using NumPy and MatPlotLib. \n",
        "\n",
        "At the end of this activity, the following objectives must be accomplished:\n",
        "\n",
        "1. Achieve familiarity on the libraries of Python numerical and scientific programming.\n",
        "2. Visualize vectors through Python Programming.\n",
        "3. Perform codes having simple vector operations. \n",
        "\n",
        "To achieve the objectives, the following concepts/terms will be covered:\n",
        "*   Numpy\n",
        "    *   Representing Vectors\n",
        "    *   Describing Vectors in NumPy\n",
        "    *   Addition\n",
        "    *   Scaling\n",
        "*   MatPlotLib\n",
        "    *   Visualizing Data\n",
        "    *   List item\n",
        "\n",
        "\n",
        "\n"
      ],
      "metadata": {
        "id": "LMr1sRb7znFQ"
      }
    },
    {
      "cell_type": "markdown",
      "source": [
        "### Numpy"
      ],
      "metadata": {
        "id": "tHVt0flOZXrV"
      }
    },
    {
      "cell_type": "markdown",
      "source": [
        "Majority of Python programming libraries utilizes ***NumPy*** (also known as Numerical Python) as the basic code because it has the ability to declare, compute, and represent matrices. \n",
        "\n",
        "This activity maximizes the different quantities such that if it represents a single value or magnitude, it is referred to as ***Scalar quantity***. Consequently, if it represents a magnitude with direction, it is referred as ***Vector quantity***. "
      ],
      "metadata": {
        "id": "oc1VsSC1ZeX0"
      }
    },
    {
      "cell_type": "markdown",
      "source": [
        "#### Representing Vectors"
      ],
      "metadata": {
        "id": "t8NYvBit0Bss"
      }
    },
    {
      "cell_type": "markdown",
      "source": [
        "A way to represent vectors is using linear equations. As direction matters in vector quantities, several denotations can be used which is shown below:"
      ],
      "metadata": {
        "id": "TfpOfkvh0FhA"
      }
    },
    {
      "cell_type": "markdown",
      "source": [
        "$$ Anya = - 6\\hat{x} + 10\\hat{y} -3\\hat{z} \\\\\n",
        "Loid = 25\\hat{x} - 35\\hat{y} + 45\\hat{z}\\\\\n",
        "Yor = 100ax + 40ay - 3az \\\\\n",
        "Franky = 5\\hat{i} - 8\\hat{j} + 4\\hat{k}$$"
      ],
      "metadata": {
        "id": "EcYelKvdZkyY"
      }
    },
    {
      "cell_type": "markdown",
      "source": [
        "In which it's matrix equivalent is:"
      ],
      "metadata": {
        "id": "DYXwvAzyZqf-"
      }
    },
    {
      "cell_type": "markdown",
      "source": [
        "$$ Anya = \\begin{bmatrix} -6 \\\\ 10 \\\\ -3\\end{bmatrix} , Loid = \\begin{bmatrix} 25 \\\\ -35 \\\\ + 45\\end{bmatrix} , Yor = \\begin{bmatrix} 100 \\\\ 40 \\\\  -3 \\end{bmatrix}, Franky = \\begin{bmatrix} 5 \\\\ -8 \\\\ 4\\end{bmatrix}\n",
        "$$\n",
        "\n",
        "\n",
        "$$ Anya = \\begin{bmatrix} -6 & 10 & -3\\end{bmatrix} , Loid = \\begin{bmatrix} 25 & -35 & 45\\end{bmatrix} , Yor = \\begin{bmatrix} 100 & 40 & -3\\end{bmatrix} , Franky = \\begin{bmatrix} 5 & -8 & 4\\end{bmatrix} \n",
        "$$"
      ],
      "metadata": {
        "id": "nFbYiFszZsES"
      }
    },
    {
      "cell_type": "markdown",
      "source": [
        "We can then start doing numpy code with this by:"
      ],
      "metadata": {
        "id": "NvTTbwbwZz66"
      }
    },
    {
      "cell_type": "code",
      "source": [
        "## Importing necessary libraries\n",
        "import numpy as np ## 'np' here is short-hand name of the library (numpy) or a nickname."
      ],
      "metadata": {
        "id": "omlSp2b5Z4VJ"
      },
      "execution_count": 9,
      "outputs": []
    },
    {
      "cell_type": "code",
      "source": [
        "Anya = np.array([[-6, 10, -3]])\n",
        "Loid = np.array([25, -35, 45])\n",
        "Yor = np.array([\n",
        "              [100],\n",
        "              [40],\n",
        "              [-3]\n",
        "])\n",
        "Franky = np.array ([[5],\n",
        "                  [-8],\n",
        "                  [4]])\n",
        "\n",
        "print('Vector Anya is ', Anya, \"\\n\")\n",
        "print('Vector Loid is ', Loid, \"\\n\")\n",
        "print('Vector Yor is ', Yor, \"\\n\")\n",
        "print('Vector Franky is ', Franky, \"\\n\")"
      ],
      "metadata": {
        "colab": {
          "base_uri": "https://localhost:8080/"
        },
        "id": "Fr4GWPj3Z-iC",
        "outputId": "51e0fccb-9482-46f7-edea-eba7872b689c"
      },
      "execution_count": 10,
      "outputs": [
        {
          "output_type": "stream",
          "name": "stdout",
          "text": [
            "Vector Anya is  [[-6 10 -3]] \n",
            "\n",
            "Vector Loid is  [ 25 -35  45] \n",
            "\n",
            "Vector Yor is  [[100]\n",
            " [ 40]\n",
            " [ -3]] \n",
            "\n",
            "Vector Franky is  [[ 5]\n",
            " [-8]\n",
            " [ 4]] \n",
            "\n"
          ]
        }
      ]
    },
    {
      "cell_type": "markdown",
      "source": [
        "#### Describing vectors in NumPy"
      ],
      "metadata": {
        "id": "IJ6IacvQaDhy"
      }
    },
    {
      "cell_type": "markdown",
      "source": [
        "In order to perform advanced operations in Python, describing the characteristics of the vectors is important particularly identifying the shape, size, and dimensions of the vectors. "
      ],
      "metadata": {
        "id": "sjwYXOsDaGtN"
      }
    },
    {
      "cell_type": "code",
      "source": [
        "### Vector Shape\n",
        "\n",
        "Anya.shape"
      ],
      "metadata": {
        "colab": {
          "base_uri": "https://localhost:8080/"
        },
        "id": "pvaWHkb5aLsr",
        "outputId": "ca8bfd11-43fa-4a72-8411-494cf6c8371b"
      },
      "execution_count": null,
      "outputs": [
        {
          "output_type": "execute_result",
          "data": {
            "text/plain": [
              "(1, 3)"
            ]
          },
          "metadata": {},
          "execution_count": 13
        }
      ]
    },
    {
      "cell_type": "code",
      "source": [
        "### Vector Size\n",
        "\n",
        "Yor.size"
      ],
      "metadata": {
        "colab": {
          "base_uri": "https://localhost:8080/"
        },
        "id": "_osVALYraPkQ",
        "outputId": "9f0ed924-c975-4b89-929c-fc84a8a416eb"
      },
      "execution_count": null,
      "outputs": [
        {
          "output_type": "execute_result",
          "data": {
            "text/plain": [
              "3"
            ]
          },
          "metadata": {},
          "execution_count": 9
        }
      ]
    },
    {
      "cell_type": "code",
      "source": [
        "### Dimension of Vector\n",
        "\n",
        "Loid.ndim"
      ],
      "metadata": {
        "colab": {
          "base_uri": "https://localhost:8080/"
        },
        "id": "W1ew4Ck3aRLI",
        "outputId": "a96e0491-7cda-4c7a-b3ff-048bcb262eab"
      },
      "execution_count": null,
      "outputs": [
        {
          "output_type": "execute_result",
          "data": {
            "text/plain": [
              "1"
            ]
          },
          "metadata": {},
          "execution_count": 10
        }
      ]
    },
    {
      "cell_type": "markdown",
      "source": [
        "#### Addition"
      ],
      "metadata": {
        "id": "cm0nwVi0aYyc"
      }
    },
    {
      "cell_type": "markdown",
      "source": [
        "The addition rule is simple, the we just need to add the elements of the matrices according to their index. So in this case if we add vector $Anya$ and vector $Loid$ we will have a resulting vector:"
      ],
      "metadata": {
        "id": "YHLDDsd4abP2"
      }
    },
    {
      "cell_type": "markdown",
      "source": [
        "$$Selene = 19\\hat{x}-25\\hat{y}+42\\hat{z} \\\\ \\\\or \\\\ \\\\ Selene = \\begin{bmatrix} 19 \\\\ -25\\\\ 42\\end{bmatrix} $$"
      ],
      "metadata": {
        "id": "Yas1wexZadkC"
      }
    },
    {
      "cell_type": "markdown",
      "source": [
        "So let's try to do that in NumPy in several number of ways:"
      ],
      "metadata": {
        "id": "mZL53WFWah7j"
      }
    },
    {
      "cell_type": "markdown",
      "source": [
        "**Functional Method**\n",
        "\n",
        "The process of adding vectors using np functions, in this case, uses np.add"
      ],
      "metadata": {
        "id": "-_XrEqjQ2jjE"
      }
    },
    {
      "cell_type": "code",
      "source": [
        "Selene = np.add(Anya, Loid) \n",
        "Selene\n"
      ],
      "metadata": {
        "id": "3-0gHIRXajay",
        "colab": {
          "base_uri": "https://localhost:8080/"
        },
        "outputId": "989dad74-f4cc-4855-832c-c47157124033"
      },
      "execution_count": null,
      "outputs": [
        {
          "output_type": "execute_result",
          "data": {
            "text/plain": [
              "array([[ 19, -25,  42]])"
            ]
          },
          "metadata": {},
          "execution_count": 15
        }
      ]
    },
    {
      "cell_type": "markdown",
      "source": [
        "**Explicit Method**\n",
        "\n",
        "Explicit method uses traditional ways of performing basic operations. The symbols with their corresponding meaning are seen below: \n",
        "\n",
        "1. Addition (+)\n",
        "2. Subtraction (-)\n",
        "3. Multiplication (*)\n",
        "4. Division (/)"
      ],
      "metadata": {
        "id": "ALStHhOs30dD"
      }
    },
    {
      "cell_type": "code",
      "source": [
        "Selene = Anya + Loid   \n",
        "Selene"
      ],
      "metadata": {
        "colab": {
          "base_uri": "https://localhost:8080/"
        },
        "id": "dNU0g8F8am3B",
        "outputId": "df400346-ab91-4729-b0b4-1bbe1bb59b37"
      },
      "execution_count": null,
      "outputs": [
        {
          "output_type": "execute_result",
          "data": {
            "text/plain": [
              "array([[ 19, -25,  42]])"
            ]
          },
          "metadata": {},
          "execution_count": 16
        }
      ]
    },
    {
      "cell_type": "markdown",
      "source": [
        "**Assigning Other Values**\n"
      ],
      "metadata": {
        "id": "8jpXbG3oS9p4"
      }
    },
    {
      "cell_type": "code",
      "source": [
        "pos1 = np.array([9,6,2])\n",
        "pos2 = np.array([0,0,2])\n",
        "pos3 = np.array([3,7,8])\n",
        "pos4 = np.array([0,9,2])"
      ],
      "metadata": {
        "id": "8yJCMcIfapTx"
      },
      "execution_count": null,
      "outputs": []
    },
    {
      "cell_type": "code",
      "source": [
        "Zia = pos1 + pos2 + pos3 + pos4\n",
        "Zia"
      ],
      "metadata": {
        "colab": {
          "base_uri": "https://localhost:8080/"
        },
        "id": "-Sl6r1w35UWo",
        "outputId": "9bc3bf3b-ecc4-486f-d6e9-3e42aff77b30"
      },
      "execution_count": null,
      "outputs": [
        {
          "output_type": "execute_result",
          "data": {
            "text/plain": [
              "array([12, 22, 14])"
            ]
          },
          "metadata": {},
          "execution_count": 18
        }
      ]
    },
    {
      "cell_type": "markdown",
      "source": [
        "##### Try for yourself!"
      ],
      "metadata": {
        "id": "iKalMLTgasxK"
      }
    },
    {
      "cell_type": "markdown",
      "source": [
        "**Performing other operations using sample values**"
      ],
      "metadata": {
        "id": "ZMqEIFseavTZ"
      }
    },
    {
      "cell_type": "markdown",
      "source": [
        "*Functional Method*"
      ],
      "metadata": {
        "id": "C05-ZwXa6IkR"
      }
    },
    {
      "cell_type": "code",
      "source": [
        "np.multiply (Anya, Loid)\n"
      ],
      "metadata": {
        "id": "3dX5rXMMax_0",
        "colab": {
          "base_uri": "https://localhost:8080/"
        },
        "outputId": "042af39d-d479-4f97-c69f-e1e87444b7a2"
      },
      "execution_count": null,
      "outputs": [
        {
          "output_type": "execute_result",
          "data": {
            "text/plain": [
              "array([[-150, -350, -135]])"
            ]
          },
          "metadata": {},
          "execution_count": 19
        }
      ]
    },
    {
      "cell_type": "code",
      "source": [
        "np.subtract(Anya, Loid)"
      ],
      "metadata": {
        "colab": {
          "base_uri": "https://localhost:8080/"
        },
        "id": "VEA1LKO76UH0",
        "outputId": "f73d5a79-624d-4978-cdd2-3b74a6c8bb9c"
      },
      "execution_count": null,
      "outputs": [
        {
          "output_type": "execute_result",
          "data": {
            "text/plain": [
              "array([[-31,  45, -48]])"
            ]
          },
          "metadata": {},
          "execution_count": 20
        }
      ]
    },
    {
      "cell_type": "code",
      "source": [
        "np.divide(Anya,Loid)"
      ],
      "metadata": {
        "colab": {
          "base_uri": "https://localhost:8080/"
        },
        "id": "inYv5_FQ6YFu",
        "outputId": "79f2e432-a854-4796-8007-00b34d4046a2"
      },
      "execution_count": null,
      "outputs": [
        {
          "output_type": "execute_result",
          "data": {
            "text/plain": [
              "array([[-0.24      , -0.28571429, -0.06666667]])"
            ]
          },
          "metadata": {},
          "execution_count": 21
        }
      ]
    },
    {
      "cell_type": "markdown",
      "source": [
        "*Explicit Method*"
      ],
      "metadata": {
        "id": "0qtKgeyF60UQ"
      }
    },
    {
      "cell_type": "code",
      "source": [
        "Product = Anya * Loid\n",
        "Product"
      ],
      "metadata": {
        "colab": {
          "base_uri": "https://localhost:8080/"
        },
        "id": "uLFKdUln63d-",
        "outputId": "76733885-55e0-448d-9665-447ded536a0e"
      },
      "execution_count": null,
      "outputs": [
        {
          "output_type": "execute_result",
          "data": {
            "text/plain": [
              "array([[-150, -350, -135]])"
            ]
          },
          "metadata": {},
          "execution_count": 22
        }
      ]
    },
    {
      "cell_type": "code",
      "source": [
        "Difference = Anya - Loid\n",
        "Difference"
      ],
      "metadata": {
        "colab": {
          "base_uri": "https://localhost:8080/"
        },
        "id": "-5qMs93a6_PX",
        "outputId": "501721e2-d83d-42c5-94f5-e26f4d593536"
      },
      "execution_count": null,
      "outputs": [
        {
          "output_type": "execute_result",
          "data": {
            "text/plain": [
              "array([[-31,  45, -48]])"
            ]
          },
          "metadata": {},
          "execution_count": 23
        }
      ]
    },
    {
      "cell_type": "code",
      "source": [
        "Ratio = Anya / Loid\n",
        "Ratio"
      ],
      "metadata": {
        "colab": {
          "base_uri": "https://localhost:8080/"
        },
        "id": "Zus7l0RN7Dx5",
        "outputId": "5871ccaf-e9ca-41f0-979f-bab48cc1a72e"
      },
      "execution_count": null,
      "outputs": [
        {
          "output_type": "execute_result",
          "data": {
            "text/plain": [
              "array([[-0.24      , -0.28571429, -0.06666667]])"
            ]
          },
          "metadata": {},
          "execution_count": 24
        }
      ]
    },
    {
      "cell_type": "markdown",
      "source": [
        "### Scaling"
      ],
      "metadata": {
        "id": "xmfwQHkqa05O"
      }
    },
    {
      "cell_type": "markdown",
      "source": [
        "Scalar multiplication, known as Scaling, performs a direct multiplication with a scalar value. It should be noted that scalar quantities does not have direction.Let's take the example below:"
      ],
      "metadata": {
        "id": "u1q9yDHna4LS"
      }
    },
    {
      "cell_type": "markdown",
      "source": [
        "$$CutieGirls = 30 \\cdot Anya$$"
      ],
      "metadata": {
        "id": "_ayF3-3la6ea"
      }
    },
    {
      "cell_type": "markdown",
      "source": [
        "We can do this in numpy through:"
      ],
      "metadata": {
        "id": "5oWyVnWfbAG2"
      }
    },
    {
      "cell_type": "code",
      "source": [
        "CutieGirls = 30 * Anya\n",
        "CutieGirls"
      ],
      "metadata": {
        "colab": {
          "base_uri": "https://localhost:8080/"
        },
        "id": "pScgiwj4K8Mr",
        "outputId": "e482c3cc-ed34-4658-96d2-9878c61ff406"
      },
      "execution_count": 11,
      "outputs": [
        {
          "output_type": "execute_result",
          "data": {
            "text/plain": [
              "array([[-180,  300,  -90]])"
            ]
          },
          "metadata": {},
          "execution_count": 11
        }
      ]
    },
    {
      "cell_type": "code",
      "source": [
        "CutieGirls = np.multiply(30,Anya)\n",
        "CutieGirls"
      ],
      "metadata": {
        "colab": {
          "base_uri": "https://localhost:8080/"
        },
        "id": "IBd1_2C6MjlY",
        "outputId": "dc025976-cf4d-4acd-e549-43e08d2d2905"
      },
      "execution_count": 12,
      "outputs": [
        {
          "output_type": "execute_result",
          "data": {
            "text/plain": [
              "array([[-180,  300,  -90]])"
            ]
          },
          "metadata": {},
          "execution_count": 12
        }
      ]
    },
    {
      "cell_type": "markdown",
      "source": [
        "Implementation of scaling with two vectors:"
      ],
      "metadata": {
        "id": "TK3xGVUzbEii"
      }
    },
    {
      "cell_type": "code",
      "source": [
        "panda = np.array([[2,6,-5,7,-1],\n",
        "                  [35,68,-87,0,3],\n",
        "                  [2,-9,-9,-2,52],\n",
        "                  [3,7,0,1,3],\n",
        "                  [3,9,-6,3,56]\n",
        "])\n",
        "\n",
        "bunny = np.array([[34,76,80,1,3],\n",
        "                   [-34,56,2,-3,6],\n",
        "                   [21,17,84,8,0],\n",
        "                   [13,5,-6,0,2],\n",
        "                   [8,-2,42,23,7]\n",
        "])\n",
        "\n",
        "WonderPanda = panda * 77\n",
        "print(\"If panda drinks water, she is a wonder pet: \\n \\n Wonder Panda = \", WonderPanda)\n",
        "\n",
        "print(\"\\n_______________________________________________________________________________\")\n",
        "\n",
        "WonderBunny = bunny * 88\n",
        "print(\"\\n If bunny behaves, he is a wonder pet: \\n \\n Wonder Bunny = \", WonderBunny)"
      ],
      "metadata": {
        "id": "Jn32dLz5bGnK",
        "colab": {
          "base_uri": "https://localhost:8080/"
        },
        "outputId": "67f1892a-62a3-4a94-cc62-9a14734e685c"
      },
      "execution_count": 20,
      "outputs": [
        {
          "output_type": "stream",
          "name": "stdout",
          "text": [
            "If panda drinks water, she is a wonder pet: \n",
            " \n",
            " Wonder Panda =  [[  154   462  -385   539   -77]\n",
            " [ 2695  5236 -6699     0   231]\n",
            " [  154  -693  -693  -154  4004]\n",
            " [  231   539     0    77   231]\n",
            " [  231   693  -462   231  4312]]\n",
            "\n",
            "_______________________________________________________________________________\n",
            "\n",
            " If bunny behaves, he is a wonder pet: \n",
            " \n",
            " Wonder Bunny =  [[ 2992  6688  7040    88   264]\n",
            " [-2992  4928   176  -264   528]\n",
            " [ 1848  1496  7392   704     0]\n",
            " [ 1144   440  -528     0   176]\n",
            " [  704  -176  3696  2024   616]]\n"
          ]
        }
      ]
    },
    {
      "cell_type": "markdown",
      "source": [
        "### MatPlotLib"
      ],
      "metadata": {
        "id": "KQusmk8ubOci"
      }
    },
    {
      "cell_type": "markdown",
      "source": [
        "The MatPlotLib or MATLab is a function of Python in order to perform plotting in a carteasian plane. Most of the time, this function is used to visualize dimensions of data through graphs."
      ],
      "metadata": {
        "id": "7yooJjuK7fEy"
      }
    },
    {
      "cell_type": "markdown",
      "source": [
        "#### Visualizing Data"
      ],
      "metadata": {
        "id": "w9pjVU9FbViJ"
      }
    },
    {
      "cell_type": "code",
      "source": [
        "import matplotlib.pyplot as plt\n",
        "import matplotlib\n",
        "%matplotlib inline"
      ],
      "metadata": {
        "id": "iKk_X2pObZTg"
      },
      "execution_count": null,
      "outputs": []
    },
    {
      "cell_type": "code",
      "source": [
        "A = [68, 43]\n",
        "B = [-71, -77]\n",
        "plt.scatter(A[0], A[1], label='A', c='pink')\n",
        "plt.scatter(B[0], B[1], label='B', c='purple')\n",
        "plt.grid()\n",
        "plt.legend()\n",
        "plt.show()"
      ],
      "metadata": {
        "colab": {
          "base_uri": "https://localhost:8080/",
          "height": 265
        },
        "id": "qZ7z2M81bcfJ",
        "outputId": "757d5818-c5b7-43e2-90c4-34bbd2e8cef9"
      },
      "execution_count": null,
      "outputs": [
        {
          "output_type": "display_data",
          "data": {
            "text/plain": [
              "<Figure size 432x288 with 1 Axes>"
            ],
            "image/png": "[encoded data removed]"
          },
          "metadata": {
            "needs_background": "light"
          }
        }
      ]
    },
    {
      "cell_type": "code",
      "source": [
        "A = np.array([4, -4])\n",
        "B = np.array([3, 4])\n",
        "plt.xlim(-5, 9)\n",
        "plt.ylim(-5, 10)\n",
        "plt.quiver(0, 0, A[0], A[1], angles='xy', scale_units='xy', scale=1, color='cyan')\n",
        "plt.quiver(A[0], A[1], B[0], B[1], angles='xy', scale_units='xy', scale=1, color='yellow')\n",
        "R = A + B\n",
        "plt.quiver(0, 0, R[0], R[1], angles='xy', scale_units='xy', scale=1, color='red')\n",
        "plt.grid()\n",
        "plt.show()\n",
        "print(R)\n",
        "\n",
        "Magnitude = np.sqrt(np.sum(R**2))\n",
        "plt.title(\"Resultant Vector\\nMagnitude:{}\" .format(Magnitude))\n",
        "print(Magnitude)\n",
        "Slope = R[1]/R[0]\n",
        "print(Slope)\n",
        "Angle = (np.arctan(Slope))*(180/np.pi)\n",
        "print(Angle)\n",
        "n = A.shape[0]\n",
        "plt.xlim(-5, 9)\n",
        "plt.ylim(-5, 10)\n",
        "plt.quiver(0,0, A[0], A[1], angles='xy', scale_units='xy',scale=1, color='cyan')\n",
        "plt.quiver(A[0],A[1], B[0], B[1], angles='xy', scale_units='xy',scale=1, color='yellow')\n",
        "plt.quiver(0,0, R[0], R[1], angles='xy', scale_units='xy',scale=1, color='red')\n",
        "plt.grid()\n",
        "plt.show()"
      ],
      "metadata": {
        "colab": {
          "base_uri": "https://localhost:8080/",
          "height": 617
        },
        "id": "HiudaHo2bmBe",
        "outputId": "fed597ce-86c4-41f5-9783-0eb8a6d4175b"
      },
      "execution_count": null,
      "outputs": [
        {
          "output_type": "display_data",
          "data": {
            "text/plain": [
              "<Figure size 432x288 with 1 Axes>"
            ],
            "image/png": "[encoded data removed]"
          },
          "metadata": {
            "needs_background": "light"
          }
        },
        {
          "output_type": "stream",
          "name": "stdout",
          "text": [
            "[7 0]\n",
            "7.0\n",
            "0.0\n",
            "0.0\n"
          ]
        },
        {
          "output_type": "display_data",
          "data": {
            "text/plain": [
              "<Figure size 432x288 with 1 Axes>"
            ],
            "image/png": "[encoded data removed]"
          },
          "metadata": {
            "needs_background": "light"
          }
        }
      ]
    },
    {
      "cell_type": "code",
      "source": [
        "n = A.shape[0]\n",
        "plt.xlim(-5, 9)\n",
        "plt.ylim(-5, 10)\n",
        "plt.quiver(0,0, A[0], A[1], angles='xy', scale_units='xy',scale=1)\n",
        "plt.quiver(A[0],A[1], B[0], B[1], angles='xy', scale_units='xy',scale=1)\n",
        "plt.quiver(0,0, R[0], R[1], angles='xy', scale_units='xy',scale=1)\n",
        "plt.show()\n",
        "\n",
        "\n"
      ],
      "metadata": {
        "colab": {
          "base_uri": "https://localhost:8080/",
          "height": 269
        },
        "id": "dXC0Jl0ibzqP",
        "outputId": "72515425-3f51-4d0b-ad91-f4786cd340bc"
      },
      "execution_count": null,
      "outputs": [
        {
          "output_type": "display_data",
          "data": {
            "text/plain": [
              "<Figure size 432x288 with 1 Axes>"
            ],
            "image/png": "[encoded data removed]"
          },
          "metadata": {
            "needs_background": "light"
          }
        }
      ]
    },
    {
      "cell_type": "markdown",
      "source": [
        "Using the Head to Tail method, three vectors were plotted showing the Resultant Vector as the result."
      ],
      "metadata": {
        "id": "DcsvqmbZb3fZ"
      }
    },
    {
      "cell_type": "code",
      "source": [
        "A = np.array([10, 10])\n",
        "B = np.array([3, -8])\n",
        "C = np.array([2, -7])\n",
        "D = A + B\n",
        "\n",
        "plt.xlim(-20, 20)\n",
        "plt.ylim(-20, 15)\n",
        "plt.quiver(0, 0, A[0], A[1], angles='xy', scale_units='xy', scale=1, color='cyan')\n",
        "plt.quiver(A[0], A[1], B[0], B[1], angles='xy', scale_units='xy', scale=1, color='yellow')\n",
        "plt.quiver(D[0], D[1], C[0], C[1], angles='xy', scale_units='xy', scale=1, color='orange')\n",
        "\n",
        "R = A + B + C\n",
        "plt.quiver(0, 0, R[0], R[1], angles='xy', scale_units='xy', scale=1, color='black')\n",
        "plt.grid()\n",
        "plt.show()\n",
        "print(R)\n",
        "\n",
        "Magnitude = np.sqrt(np.sum(R**2))\n",
        "plt.title(\"Resultant Vector\\nMagnitude:{}\" .format(Magnitude))\n",
        "print(Magnitude)\n",
        "Slope = R[1]/R[0]\n",
        "print(Slope)\n",
        "Angle = (np.arctan(Slope))*(180/np.pi)\n",
        "print(Angle)\n",
        "n = A.shape[0]\n",
        "\n",
        "plt.xlim(-20, 20)\n",
        "plt.ylim(-20, 15)\n",
        "plt.quiver(0, 0, A[0], A[1], angles='xy', scale_units='xy', scale=1, color='cyan')\n",
        "plt.quiver(A[0], A[1], B[0], B[1], angles='xy', scale_units='xy', scale=1, color='yellow')\n",
        "plt.quiver(D[0], D[1], C[0], C[1], angles='xy', scale_units='xy', scale=1, color='orange')\n",
        "\n",
        "R = A + B + C\n",
        "plt.quiver(0, 0, R[0], R[1], angles='xy', scale_units='xy', scale=1, color='black')\n",
        "plt.grid()\n",
        "plt.show()\n",
        "print(R)\n"
      ],
      "metadata": {
        "id": "RVC0DAxdb5aB",
        "colab": {
          "base_uri": "https://localhost:8080/",
          "height": 635
        },
        "outputId": "470b7c88-aa42-4082-ab61-32dd29a5cdbc"
      },
      "execution_count": null,
      "outputs": [
        {
          "output_type": "display_data",
          "data": {
            "text/plain": [
              "<Figure size 432x288 with 1 Axes>"
            ],
            "image/png": "[encoded data removed]"
          },
          "metadata": {
            "needs_background": "light"
          }
        },
        {
          "output_type": "stream",
          "name": "stdout",
          "text": [
            "[15 -5]\n",
            "15.811388300841896\n",
            "-0.3333333333333333\n",
            "-18.43494882292201\n"
          ]
        },
        {
          "output_type": "display_data",
          "data": {
            "text/plain": [
              "<Figure size 432x288 with 1 Axes>"
            ],
            "image/png": "[encoded data removed]"
          },
          "metadata": {
            "needs_background": "light"
          }
        },
        {
          "output_type": "stream",
          "name": "stdout",
          "text": [
            "[15 -5]\n"
          ]
        }
      ]
    }
  ]
}